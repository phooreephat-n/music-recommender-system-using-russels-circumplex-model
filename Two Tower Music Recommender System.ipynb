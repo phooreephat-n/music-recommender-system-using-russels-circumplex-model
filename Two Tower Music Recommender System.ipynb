{
 "cells": [
  {
   "cell_type": "code",
   "execution_count": null,
   "metadata": {},
   "outputs": [],
   "source": [
    "from typing import Dict, Text\n",
    "\n",
    "import numpy as np\n",
    "import pandas as pd\n",
    "import matplotlib.pyplot as plt\n",
    "\n",
    "import tensorflow as tf\n",
    "import tensorflow_datasets as tfds\n",
    "import tensorflow_recommenders as tfrs\n",
    "\n",
    "from sklearn.model_selection import train_test_split"
   ]
  },
  {
   "cell_type": "markdown",
   "metadata": {
    "id": "OuPooUyNSs4k"
   },
   "source": [
    "## Import the data"
   ]
  },
  {
   "cell_type": "code",
   "execution_count": null,
   "metadata": {
    "id": "ssirC7epSqDk"
   },
   "outputs": [],
   "source": [
    "item_df = pd.read_csv('df_items.csv')\n",
    "user_df = pd.read_csv('df_users.csv')\n",
    "interaction_df = pd.read_csv('df_interactions.csv')\n",
    "song_info_df = pd.read_csv('df_song_info.csv')"
   ]
  },
  {
   "cell_type": "markdown",
   "metadata": {
    "id": "hfppUkhBjsP_"
   },
   "source": [
    "## Data Preparation"
   ]
  },
  {
   "cell_type": "code",
   "execution_count": null,
   "metadata": {
    "id": "3j_964zuYc_B"
   },
   "outputs": [],
   "source": [
    "# Construct song title to combine name and artist.\n",
    "item_df = pd.merge(item_df, song_info_df, on='track_id')\n",
    "item_df['song_title'] = item_df['name'] + ' by ' + item_df['artist']\n",
    "item_df = item_df.drop(['name'], axis=1)\n",
    "\n",
    "# Merge dataframes to get song title for interaction dataframe.\n",
    "interaction_df = pd.merge(interaction_df, song_info_df, on='track_id')\n",
    "interaction_df = pd.merge(interaction_df, user_df, on='user_id')\n",
    "interaction_df['song_title'] = interaction_df['name'] + ' by ' + interaction_df['artist']\n",
    "\n",
    "# Drop unused Columns\n",
    "interaction_df = interaction_df.drop(['name', 'artist', 'previous_track_id'], axis=1)"
   ]
  },
  {
   "cell_type": "code",
   "execution_count": null,
   "metadata": {
    "id": "a-Fz5CE6YuLQ"
   },
   "outputs": [],
   "source": [
    "# Transforming the data types of song emotion and user segment to string\n",
    "item_df['Emotion Quadrant'] = item_df['Emotion Quadrant'].astype(str)\n",
    "interaction_df['segment'] = interaction_df['segment'].astype(str)"
   ]
  },
  {
   "cell_type": "code",
   "execution_count": null,
   "metadata": {
    "colab": {
     "base_uri": "https://localhost:8080/"
    },
    "id": "jZ92srDHZAGl",
    "outputId": "e3be0afe-100f-44f8-e54e-54cef00d6923"
   },
   "outputs": [
    {
     "data": {
      "text/plain": [
       "Index(['user_id', 'track_id', 'playcount', 'segment', 'song_title'], dtype='object')"
      ]
     },
     "execution_count": 8,
     "metadata": {},
     "output_type": "execute_result"
    }
   ],
   "source": [
    "# Check columns in interaction dataframe\n",
    "interaction_df.columns"
   ]
  },
  {
   "cell_type": "code",
   "execution_count": null,
   "metadata": {
    "id": "taiOA94QYTW5"
   },
   "outputs": [],
   "source": [
    "# Select columns to use for interaction (user) dataframe\n",
    "i_cols = ['user_id', 'track_id', 'playcount', 'segment', 'song_title']\n",
    "\n",
    "# Select columna to use for item (song) dataframe\n",
    "s_cols = ['track_id', 'song_title', 'Emotion Quadrant', 'artist', 'year']\n",
    "\n",
    "# Filter columns\n",
    "song_df = item_df[s_cols]\n",
    "interaction_df = interaction_df[i_cols]"
   ]
  },
  {
   "cell_type": "code",
   "execution_count": null,
   "metadata": {
    "colab": {
     "base_uri": "https://localhost:8080/"
    },
    "id": "nkrImqatZrXv",
    "outputId": "85617b15-ee58-44b3-8e76-66483d99abf3"
   },
   "outputs": [
    {
     "name": "stderr",
     "output_type": "stream",
     "text": [
      "<ipython-input-11-0a736e00bd8d>:3: SettingWithCopyWarning: \n",
      "A value is trying to be set on a copy of a slice from a DataFrame.\n",
      "Try using .loc[row_indexer,col_indexer] = value instead\n",
      "\n",
      "See the caveats in the documentation: https://pandas.pydata.org/pandas-docs/stable/user_guide/indexing.html#returning-a-view-versus-a-copy\n",
      "  song_df['track_id'] = 'id_' + song_df['track_id'].astype(str)\n"
     ]
    }
   ],
   "source": [
    "# Changes the data type of user_id and track_id to string by adding 'id_'.\n",
    "interaction_df['user_id'] = 'id_' + interaction_df['user_id'].astype(str)\n",
    "interaction_df['track_id'] = 'id_' + interaction_df['track_id'].astype(str)\n",
    "song_df['track_id'] = 'id_' + song_df['track_id'].astype(str)"
   ]
  },
  {
   "cell_type": "code",
   "execution_count": null,
   "metadata": {
    "id": "eV4aDMUgZznr"
   },
   "outputs": [],
   "source": [
    "# Extract heavt and light users \n",
    "heavy_user_df = interaction_df['user_id'].value_counts()[:600].index\n",
    "light_user_df = interaction_df['user_id'].value_counts()[600:].index\n",
    "heavy_user_listen_df = interaction_df.query('user_id in @heavy_user_df')\n",
    "light_user_listen_df = interaction_df.query('user_id in @light_user_df')"
   ]
  },
  {
   "cell_type": "code",
   "execution_count": null,
   "metadata": {
    "id": "O01qg441Z6XN"
   },
   "outputs": [],
   "source": [
    "# Sort the dataFrame by user_id and unix_timestamp\n",
    "heavy_user_listen_df = heavy_user_listen_df.sort_values(['user_id'])"
   ]
  },
  {
   "cell_type": "code",
   "execution_count": null,
   "metadata": {
    "colab": {
     "base_uri": "https://localhost:8080/"
    },
    "id": "bkNUCYtuadVM",
    "outputId": "7fa94473-edd7-415f-e897-2b1ac889a9b2"
   },
   "outputs": [
    {
     "name": "stdout",
     "output_type": "stream",
     "text": [
      "Training set shape: (21224, 5)\n",
      "Validation set shape: (10612, 5)\n",
      "Testing set shape: (10612, 5)\n"
     ]
    }
   ],
   "source": [
    "# Split into training and temporary sets (80% training, 20% temp)\n",
    "train_df, tmp_df = train_test_split(heavy_user_listen_df, test_size=0.8, random_state=13)\n",
    "\n",
    "# Further split the temporary set into training and validation sets (50% training, 50% validation)\n",
    "val_df, test_df = train_test_split(tmp_df, test_size=0.5, random_state=13)\n",
    "\n",
    "print(\"Training set shape:\", train_df.shape)\n",
    "print(\"Validation set shape:\", val_df.shape)\n",
    "print(\"Testing set shape:\", test_df.shape)"
   ]
  },
  {
   "cell_type": "code",
   "execution_count": null,
   "metadata": {
    "colab": {
     "base_uri": "https://localhost:8080/",
     "height": 419
    },
    "id": "Frkd_S4rbCG-",
    "outputId": "af5fb76f-3e6d-4c18-f215-c05a124d509b"
   },
   "outputs": [
    {
     "data": {
      "application/vnd.google.colaboratory.intrinsic+json": {
       "summary": "{\n  \"name\": \"additional_features\",\n  \"rows\": 7369,\n  \"fields\": [\n    {\n      \"column\": \"track_id\",\n      \"properties\": {\n        \"dtype\": \"string\",\n        \"num_unique_values\": 7369,\n        \"samples\": [\n          \"id_2614\",\n          \"id_15875\",\n          \"id_6391\"\n        ],\n        \"semantic_type\": \"\",\n        \"description\": \"\"\n      }\n    },\n    {\n      \"column\": \"total_listener\",\n      \"properties\": {\n        \"dtype\": \"number\",\n        \"std\": 3,\n        \"min\": 1,\n        \"max\": 47,\n        \"num_unique_values\": 37,\n        \"samples\": [\n          23,\n          26,\n          14\n        ],\n        \"semantic_type\": \"\",\n        \"description\": \"\"\n      }\n    },\n    {\n      \"column\": \"avg_plays\",\n      \"properties\": {\n        \"dtype\": \"number\",\n        \"std\": 2.230344466604318,\n        \"min\": 1.0,\n        \"max\": 87.0,\n        \"num_unique_values\": 249,\n        \"samples\": [\n          1.92,\n          1.17,\n          1.81\n        ],\n        \"semantic_type\": \"\",\n        \"description\": \"\"\n      }\n    }\n  ]\n}",
       "type": "dataframe",
       "variable_name": "additional_features"
      },
      "text/html": [
       "\n",
       "  <div id=\"df-88b83298-c3ee-4903-8970-38ba279048ea\" class=\"colab-df-container\">\n",
       "    <div>\n",
       "<style scoped>\n",
       "    .dataframe tbody tr th:only-of-type {\n",
       "        vertical-align: middle;\n",
       "    }\n",
       "\n",
       "    .dataframe tbody tr th {\n",
       "        vertical-align: top;\n",
       "    }\n",
       "\n",
       "    .dataframe thead th {\n",
       "        text-align: right;\n",
       "    }\n",
       "</style>\n",
       "<table border=\"1\" class=\"dataframe\">\n",
       "  <thead>\n",
       "    <tr style=\"text-align: right;\">\n",
       "      <th></th>\n",
       "      <th>track_id</th>\n",
       "      <th>total_listener</th>\n",
       "      <th>avg_plays</th>\n",
       "    </tr>\n",
       "  </thead>\n",
       "  <tbody>\n",
       "    <tr>\n",
       "      <th>0</th>\n",
       "      <td>id_1000</td>\n",
       "      <td>2</td>\n",
       "      <td>2.50</td>\n",
       "    </tr>\n",
       "    <tr>\n",
       "      <th>1</th>\n",
       "      <td>id_10006</td>\n",
       "      <td>2</td>\n",
       "      <td>1.00</td>\n",
       "    </tr>\n",
       "    <tr>\n",
       "      <th>2</th>\n",
       "      <td>id_10019</td>\n",
       "      <td>1</td>\n",
       "      <td>1.00</td>\n",
       "    </tr>\n",
       "    <tr>\n",
       "      <th>3</th>\n",
       "      <td>id_10026</td>\n",
       "      <td>1</td>\n",
       "      <td>5.00</td>\n",
       "    </tr>\n",
       "    <tr>\n",
       "      <th>4</th>\n",
       "      <td>id_10029</td>\n",
       "      <td>1</td>\n",
       "      <td>7.00</td>\n",
       "    </tr>\n",
       "    <tr>\n",
       "      <th>...</th>\n",
       "      <td>...</td>\n",
       "      <td>...</td>\n",
       "      <td>...</td>\n",
       "    </tr>\n",
       "    <tr>\n",
       "      <th>7364</th>\n",
       "      <td>id_9990</td>\n",
       "      <td>3</td>\n",
       "      <td>1.67</td>\n",
       "    </tr>\n",
       "    <tr>\n",
       "      <th>7365</th>\n",
       "      <td>id_9992</td>\n",
       "      <td>2</td>\n",
       "      <td>1.00</td>\n",
       "    </tr>\n",
       "    <tr>\n",
       "      <th>7366</th>\n",
       "      <td>id_9994</td>\n",
       "      <td>1</td>\n",
       "      <td>1.00</td>\n",
       "    </tr>\n",
       "    <tr>\n",
       "      <th>7367</th>\n",
       "      <td>id_9998</td>\n",
       "      <td>1</td>\n",
       "      <td>1.00</td>\n",
       "    </tr>\n",
       "    <tr>\n",
       "      <th>7368</th>\n",
       "      <td>id_9999</td>\n",
       "      <td>1</td>\n",
       "      <td>1.00</td>\n",
       "    </tr>\n",
       "  </tbody>\n",
       "</table>\n",
       "<p>7369 rows × 3 columns</p>\n",
       "</div>\n",
       "    <div class=\"colab-df-buttons\">\n",
       "\n",
       "  <div class=\"colab-df-container\">\n",
       "    <button class=\"colab-df-convert\" onclick=\"convertToInteractive('df-88b83298-c3ee-4903-8970-38ba279048ea')\"\n",
       "            title=\"Convert this dataframe to an interactive table.\"\n",
       "            style=\"display:none;\">\n",
       "\n",
       "  <svg xmlns=\"http://www.w3.org/2000/svg\" height=\"24px\" viewBox=\"0 -960 960 960\">\n",
       "    <path d=\"M120-120v-720h720v720H120Zm60-500h600v-160H180v160Zm220 220h160v-160H400v160Zm0 220h160v-160H400v160ZM180-400h160v-160H180v160Zm440 0h160v-160H620v160ZM180-180h160v-160H180v160Zm440 0h160v-160H620v160Z\"/>\n",
       "  </svg>\n",
       "    </button>\n",
       "\n",
       "  <style>\n",
       "    .colab-df-container {\n",
       "      display:flex;\n",
       "      gap: 12px;\n",
       "    }\n",
       "\n",
       "    .colab-df-convert {\n",
       "      background-color: #E8F0FE;\n",
       "      border: none;\n",
       "      border-radius: 50%;\n",
       "      cursor: pointer;\n",
       "      display: none;\n",
       "      fill: #1967D2;\n",
       "      height: 32px;\n",
       "      padding: 0 0 0 0;\n",
       "      width: 32px;\n",
       "    }\n",
       "\n",
       "    .colab-df-convert:hover {\n",
       "      background-color: #E2EBFA;\n",
       "      box-shadow: 0px 1px 2px rgba(60, 64, 67, 0.3), 0px 1px 3px 1px rgba(60, 64, 67, 0.15);\n",
       "      fill: #174EA6;\n",
       "    }\n",
       "\n",
       "    .colab-df-buttons div {\n",
       "      margin-bottom: 4px;\n",
       "    }\n",
       "\n",
       "    [theme=dark] .colab-df-convert {\n",
       "      background-color: #3B4455;\n",
       "      fill: #D2E3FC;\n",
       "    }\n",
       "\n",
       "    [theme=dark] .colab-df-convert:hover {\n",
       "      background-color: #434B5C;\n",
       "      box-shadow: 0px 1px 3px 1px rgba(0, 0, 0, 0.15);\n",
       "      filter: drop-shadow(0px 1px 2px rgba(0, 0, 0, 0.3));\n",
       "      fill: #FFFFFF;\n",
       "    }\n",
       "  </style>\n",
       "\n",
       "    <script>\n",
       "      const buttonEl =\n",
       "        document.querySelector('#df-88b83298-c3ee-4903-8970-38ba279048ea button.colab-df-convert');\n",
       "      buttonEl.style.display =\n",
       "        google.colab.kernel.accessAllowed ? 'block' : 'none';\n",
       "\n",
       "      async function convertToInteractive(key) {\n",
       "        const element = document.querySelector('#df-88b83298-c3ee-4903-8970-38ba279048ea');\n",
       "        const dataTable =\n",
       "          await google.colab.kernel.invokeFunction('convertToInteractive',\n",
       "                                                    [key], {});\n",
       "        if (!dataTable) return;\n",
       "\n",
       "        const docLinkHtml = 'Like what you see? Visit the ' +\n",
       "          '<a target=\"_blank\" href=https://colab.research.google.com/notebooks/data_table.ipynb>data table notebook</a>'\n",
       "          + ' to learn more about interactive tables.';\n",
       "        element.innerHTML = '';\n",
       "        dataTable['output_type'] = 'display_data';\n",
       "        await google.colab.output.renderOutput(dataTable, element);\n",
       "        const docLink = document.createElement('div');\n",
       "        docLink.innerHTML = docLinkHtml;\n",
       "        element.appendChild(docLink);\n",
       "      }\n",
       "    </script>\n",
       "  </div>\n",
       "\n",
       "\n",
       "<div id=\"df-1a8a63c0-6ecc-48f0-9e8f-7834af413b2f\">\n",
       "  <button class=\"colab-df-quickchart\" onclick=\"quickchart('df-1a8a63c0-6ecc-48f0-9e8f-7834af413b2f')\"\n",
       "            title=\"Suggest charts\"\n",
       "            style=\"display:none;\">\n",
       "\n",
       "<svg xmlns=\"http://www.w3.org/2000/svg\" height=\"24px\"viewBox=\"0 0 24 24\"\n",
       "     width=\"24px\">\n",
       "    <g>\n",
       "        <path d=\"M19 3H5c-1.1 0-2 .9-2 2v14c0 1.1.9 2 2 2h14c1.1 0 2-.9 2-2V5c0-1.1-.9-2-2-2zM9 17H7v-7h2v7zm4 0h-2V7h2v10zm4 0h-2v-4h2v4z\"/>\n",
       "    </g>\n",
       "</svg>\n",
       "  </button>\n",
       "\n",
       "<style>\n",
       "  .colab-df-quickchart {\n",
       "      --bg-color: #E8F0FE;\n",
       "      --fill-color: #1967D2;\n",
       "      --hover-bg-color: #E2EBFA;\n",
       "      --hover-fill-color: #174EA6;\n",
       "      --disabled-fill-color: #AAA;\n",
       "      --disabled-bg-color: #DDD;\n",
       "  }\n",
       "\n",
       "  [theme=dark] .colab-df-quickchart {\n",
       "      --bg-color: #3B4455;\n",
       "      --fill-color: #D2E3FC;\n",
       "      --hover-bg-color: #434B5C;\n",
       "      --hover-fill-color: #FFFFFF;\n",
       "      --disabled-bg-color: #3B4455;\n",
       "      --disabled-fill-color: #666;\n",
       "  }\n",
       "\n",
       "  .colab-df-quickchart {\n",
       "    background-color: var(--bg-color);\n",
       "    border: none;\n",
       "    border-radius: 50%;\n",
       "    cursor: pointer;\n",
       "    display: none;\n",
       "    fill: var(--fill-color);\n",
       "    height: 32px;\n",
       "    padding: 0;\n",
       "    width: 32px;\n",
       "  }\n",
       "\n",
       "  .colab-df-quickchart:hover {\n",
       "    background-color: var(--hover-bg-color);\n",
       "    box-shadow: 0 1px 2px rgba(60, 64, 67, 0.3), 0 1px 3px 1px rgba(60, 64, 67, 0.15);\n",
       "    fill: var(--button-hover-fill-color);\n",
       "  }\n",
       "\n",
       "  .colab-df-quickchart-complete:disabled,\n",
       "  .colab-df-quickchart-complete:disabled:hover {\n",
       "    background-color: var(--disabled-bg-color);\n",
       "    fill: var(--disabled-fill-color);\n",
       "    box-shadow: none;\n",
       "  }\n",
       "\n",
       "  .colab-df-spinner {\n",
       "    border: 2px solid var(--fill-color);\n",
       "    border-color: transparent;\n",
       "    border-bottom-color: var(--fill-color);\n",
       "    animation:\n",
       "      spin 1s steps(1) infinite;\n",
       "  }\n",
       "\n",
       "  @keyframes spin {\n",
       "    0% {\n",
       "      border-color: transparent;\n",
       "      border-bottom-color: var(--fill-color);\n",
       "      border-left-color: var(--fill-color);\n",
       "    }\n",
       "    20% {\n",
       "      border-color: transparent;\n",
       "      border-left-color: var(--fill-color);\n",
       "      border-top-color: var(--fill-color);\n",
       "    }\n",
       "    30% {\n",
       "      border-color: transparent;\n",
       "      border-left-color: var(--fill-color);\n",
       "      border-top-color: var(--fill-color);\n",
       "      border-right-color: var(--fill-color);\n",
       "    }\n",
       "    40% {\n",
       "      border-color: transparent;\n",
       "      border-right-color: var(--fill-color);\n",
       "      border-top-color: var(--fill-color);\n",
       "    }\n",
       "    60% {\n",
       "      border-color: transparent;\n",
       "      border-right-color: var(--fill-color);\n",
       "    }\n",
       "    80% {\n",
       "      border-color: transparent;\n",
       "      border-right-color: var(--fill-color);\n",
       "      border-bottom-color: var(--fill-color);\n",
       "    }\n",
       "    90% {\n",
       "      border-color: transparent;\n",
       "      border-bottom-color: var(--fill-color);\n",
       "    }\n",
       "  }\n",
       "</style>\n",
       "\n",
       "  <script>\n",
       "    async function quickchart(key) {\n",
       "      const quickchartButtonEl =\n",
       "        document.querySelector('#' + key + ' button');\n",
       "      quickchartButtonEl.disabled = true;  // To prevent multiple clicks.\n",
       "      quickchartButtonEl.classList.add('colab-df-spinner');\n",
       "      try {\n",
       "        const charts = await google.colab.kernel.invokeFunction(\n",
       "            'suggestCharts', [key], {});\n",
       "      } catch (error) {\n",
       "        console.error('Error during call to suggestCharts:', error);\n",
       "      }\n",
       "      quickchartButtonEl.classList.remove('colab-df-spinner');\n",
       "      quickchartButtonEl.classList.add('colab-df-quickchart-complete');\n",
       "    }\n",
       "    (() => {\n",
       "      let quickchartButtonEl =\n",
       "        document.querySelector('#df-1a8a63c0-6ecc-48f0-9e8f-7834af413b2f button');\n",
       "      quickchartButtonEl.style.display =\n",
       "        google.colab.kernel.accessAllowed ? 'block' : 'none';\n",
       "    })();\n",
       "  </script>\n",
       "</div>\n",
       "\n",
       "  <div id=\"id_527545ae-4ade-4692-8f4a-f6000ac8b28b\">\n",
       "    <style>\n",
       "      .colab-df-generate {\n",
       "        background-color: #E8F0FE;\n",
       "        border: none;\n",
       "        border-radius: 50%;\n",
       "        cursor: pointer;\n",
       "        display: none;\n",
       "        fill: #1967D2;\n",
       "        height: 32px;\n",
       "        padding: 0 0 0 0;\n",
       "        width: 32px;\n",
       "      }\n",
       "\n",
       "      .colab-df-generate:hover {\n",
       "        background-color: #E2EBFA;\n",
       "        box-shadow: 0px 1px 2px rgba(60, 64, 67, 0.3), 0px 1px 3px 1px rgba(60, 64, 67, 0.15);\n",
       "        fill: #174EA6;\n",
       "      }\n",
       "\n",
       "      [theme=dark] .colab-df-generate {\n",
       "        background-color: #3B4455;\n",
       "        fill: #D2E3FC;\n",
       "      }\n",
       "\n",
       "      [theme=dark] .colab-df-generate:hover {\n",
       "        background-color: #434B5C;\n",
       "        box-shadow: 0px 1px 3px 1px rgba(0, 0, 0, 0.15);\n",
       "        filter: drop-shadow(0px 1px 2px rgba(0, 0, 0, 0.3));\n",
       "        fill: #FFFFFF;\n",
       "      }\n",
       "    </style>\n",
       "    <button class=\"colab-df-generate\" onclick=\"generateWithVariable('additional_features')\"\n",
       "            title=\"Generate code using this dataframe.\"\n",
       "            style=\"display:none;\">\n",
       "\n",
       "  <svg xmlns=\"http://www.w3.org/2000/svg\" height=\"24px\"viewBox=\"0 0 24 24\"\n",
       "       width=\"24px\">\n",
       "    <path d=\"M7,19H8.4L18.45,9,17,7.55,7,17.6ZM5,21V16.75L18.45,3.32a2,2,0,0,1,2.83,0l1.4,1.43a1.91,1.91,0,0,1,.58,1.4,1.91,1.91,0,0,1-.58,1.4L9.25,21ZM18.45,9,17,7.55Zm-12,3A5.31,5.31,0,0,0,4.9,8.1,5.31,5.31,0,0,0,1,6.5,5.31,5.31,0,0,0,4.9,4.9,5.31,5.31,0,0,0,6.5,1,5.31,5.31,0,0,0,8.1,4.9,5.31,5.31,0,0,0,12,6.5,5.46,5.46,0,0,0,6.5,12Z\"/>\n",
       "  </svg>\n",
       "    </button>\n",
       "    <script>\n",
       "      (() => {\n",
       "      const buttonEl =\n",
       "        document.querySelector('#id_527545ae-4ade-4692-8f4a-f6000ac8b28b button.colab-df-generate');\n",
       "      buttonEl.style.display =\n",
       "        google.colab.kernel.accessAllowed ? 'block' : 'none';\n",
       "\n",
       "      buttonEl.onclick = () => {\n",
       "        google.colab.notebook.generateWithVariable('additional_features');\n",
       "      }\n",
       "      })();\n",
       "    </script>\n",
       "  </div>\n",
       "\n",
       "    </div>\n",
       "  </div>\n"
      ],
      "text/plain": [
       "      track_id  total_listener  avg_plays\n",
       "0      id_1000               2       2.50\n",
       "1     id_10006               2       1.00\n",
       "2     id_10019               1       1.00\n",
       "3     id_10026               1       5.00\n",
       "4     id_10029               1       7.00\n",
       "...        ...             ...        ...\n",
       "7364   id_9990               3       1.67\n",
       "7365   id_9992               2       1.00\n",
       "7366   id_9994               1       1.00\n",
       "7367   id_9998               1       1.00\n",
       "7368   id_9999               1       1.00\n",
       "\n",
       "[7369 rows x 3 columns]"
      ]
     },
     "execution_count": 15,
     "metadata": {},
     "output_type": "execute_result"
    }
   ],
   "source": [
    "# Calculate the unique listener number of each song and the average playcount of each song\n",
    "additional_features = train_df.groupby('track_id')\\\n",
    "                                .aggregate({'user_id':'count','playcount':'mean'})\\\n",
    "                                .rename(columns={'user_id':'total_listener', 'playcount':'avg_plays'})\\\n",
    "                                .reset_index()\n",
    "\n",
    "additional_features['avg_plays'] = additional_features['avg_plays'].round(2)\n",
    "additional_features"
   ]
  },
  {
   "cell_type": "code",
   "execution_count": null,
   "metadata": {
    "id": "qSVKadcVbT3Y"
   },
   "outputs": [],
   "source": [
    "# Define columns to use in the song dataframe\n",
    "columns = [\n",
    "    'track_id',\n",
    "    'song_title',\n",
    "    'artist',\n",
    "    'Emotion Quadrant',\n",
    "    'total_listener',\n",
    "    'avg_plays'\n",
    "]\n",
    "\n",
    "\n",
    "# Merge the additional features to the song dataframe\n",
    "song_df = (song_df.merge(additional_features,\n",
    "                    left_on='track_id', right_on='track_id',how = 'left'))\n",
    "\n",
    "# kerge train, val, and test dataframes with the song dataframe\n",
    "\n",
    "train_df = (train_df.merge(song_df[columns],\n",
    "                    left_on='track_id', right_on='track_id',how = 'left'))\n",
    "\n",
    "val_df = (val_df.merge(song_df[columns],\n",
    "                    left_on='track_id', right_on='track_id',how = 'left'))\n",
    "\n",
    "test_df = (test_df.merge(song_df[columns],\n",
    "                    left_on='track_id', right_on='track_id',how = 'left'))\n",
    "\n",
    "# Merge the light user dataframe with the song dataframe\n",
    "light_user_ratings_df = (light_user_listen_df.merge(song_df[columns],\n",
    "                                                left_on='track_id', right_on='track_id',how = 'left')\n",
    ")"
   ]
  },
  {
   "cell_type": "code",
   "execution_count": null,
   "metadata": {
    "id": "1Onsoo5ad1kH"
   },
   "outputs": [],
   "source": [
    "# Drop unused columns\n",
    "train_df_2 = train_df.drop(['playcount', 'song_title_x'],axis=1)\\\n",
    "                        .rename(columns={'song_title_y':'song_title'})\n",
    "\n",
    "val_df_2 = val_df.drop(['playcount', 'song_title_x'],axis=1)\\\n",
    "                        .rename(columns={'song_title_y':'song_title'})\n",
    "\n",
    "test_df_2 = test_df.drop(['playcount', 'song_title_x'],axis=1)\\\n",
    "                        .rename(columns={'song_title_y':'song_title'})\n",
    "\n",
    "light_user_ratings_df_2 = light_user_ratings_df.drop(['playcount', 'song_title_x'],axis=1)\\\n",
    "                        .rename(columns={'song_title_y':'song_title'})\n",
    "\n",
    "# Transform the data type of the year column to string\n",
    "song_df['year'] = song_df['year'].astype(str)"
   ]
  },
  {
   "cell_type": "code",
   "execution_count": null,
   "metadata": {
    "id": "PlagDGzjd-un"
   },
   "outputs": [],
   "source": [
    "# Convert pandas dataframes to tensorFlow datasets\n",
    "train_tf = tf.data.Dataset.from_tensor_slices(train_df_2.to_dict('list'))\n",
    "val_tf = tf.data.Dataset.from_tensor_slices(val_df_2.to_dict('list'))\n",
    "test_tf = tf.data.Dataset.from_tensor_slices(test_df_2.to_dict('list'))\n",
    "song_tf = tf.data.Dataset.from_tensor_slices(dict(song_df[columns].to_dict('list')))"
   ]
  },
  {
   "cell_type": "code",
   "execution_count": null,
   "metadata": {
    "id": "A9YD_PrYdR4k"
   },
   "outputs": [],
   "source": [
    "# Covert tf dataframe to this json formated tf dataframe.\n",
    "# Format required for training the model\n",
    "\n",
    "train = train_tf.map(lambda x: {\n",
    "    \"user_id\": x[\"user_id\"],\n",
    "    \"track_id\": x[\"track_id\"],\n",
    "    \"song_title\": x[\"song_title\"],\n",
    "    \"segment\": x[\"segment\"],\n",
    "    \"artist\": x[\"artist\"],\n",
    "    \"Emotion Quadrant\": x[\"Emotion Quadrant\"],\n",
    "    \"total_listener\": x[\"total_listener\"],\n",
    "    \"avg_plays\": x[\"avg_plays\"]\n",
    "    })\n",
    "\n",
    "val = val_tf.map(lambda x: {\n",
    "    \"user_id\": x[\"user_id\"],\n",
    "    \"track_id\": x[\"track_id\"],\n",
    "    \"song_title\": x[\"song_title\"],\n",
    "    \"segment\": x[\"segment\"],\n",
    "    \"artist\": x[\"artist\"],\n",
    "    \"Emotion Quadrant\": x[\"Emotion Quadrant\"],\n",
    "    \"total_listener\": x[\"total_listener\"],\n",
    "    \"avg_plays\": x[\"avg_plays\"]\n",
    "    })\n",
    "\n",
    "test = test_tf.map(lambda x: {\n",
    "    \"user_id\": x[\"user_id\"],\n",
    "    \"track_id\": x[\"track_id\"],\n",
    "    \"song_title\": x[\"song_title\"],\n",
    "    \"segment\": x[\"segment\"],\n",
    "    \"artist\": x[\"artist\"],\n",
    "    \"Emotion Quadrant\": x[\"Emotion Quadrant\"],\n",
    "    \"total_listener\": x[\"total_listener\"],\n",
    "    \"avg_plays\": x[\"avg_plays\"]\n",
    "    })\n",
    "\n",
    "song = song_tf.map(lambda x: {\n",
    "    \"track_id\": x[\"track_id\"],\n",
    "    \"song_title\": x[\"song_title\"],\n",
    "    \"Emotion Quadrant\": x[\"Emotion Quadrant\"],\n",
    "    \"artist\": x[\"artist\"],\n",
    "    \"total_listener\": x[\"total_listener\"],\n",
    "    \"avg_plays\": x[\"avg_plays\"]\n",
    "    })"
   ]
  },
  {
   "cell_type": "code",
   "execution_count": null,
   "metadata": {
    "id": "iXeyO4CQf-d1"
   },
   "outputs": [],
   "source": [
    "# Batching the entier dataframe for memory safety\n",
    "tf.random.set_seed(13)\n",
    "\n",
    "cached_train = train.batch(1000).cache()\n",
    "cached_val = val.batch(1000).cache()\n",
    "cached_test = test.batch(1000).cache()"
   ]
  },
  {
   "cell_type": "code",
   "execution_count": null,
   "metadata": {
    "id": "3GiNHXUpgAUf"
   },
   "outputs": [],
   "source": [
    "# Set some variables to the model such as the input/output dimensions of the embeddings.\n",
    "\n",
    "user_ids = train_tf.batch(1_000).map(lambda x: x[\"user_id\"])\n",
    "song_ids = song_tf.batch(1_000).map(lambda x: x[\"track_id\"])\n",
    "segment_ids = train_tf.batch(1_000).map(lambda x: x[\"segment\"])\n",
    "title_song_ids = song_tf.batch(1_000).map(lambda x: x[\"song_title\"])\n",
    "artist_ids = song_tf.batch(1_000).map(lambda x: x[\"artist\"])\n",
    "Emotion_Quadrant_ids = song_tf.batch(1_000).map(lambda x: x[\"Emotion Quadrant\"])\n",
    "\n",
    "# Getting a list of the unique values for each variable\n",
    "unique_user_ids = np.unique(np.concatenate(list(user_ids)))\n",
    "unique_song_ids = np.unique(np.concatenate(list(song_ids)))\n",
    "unique_segment_ids = np.unique(np.concatenate(list(segment_ids)))\n",
    "unique_title_song_ids = np.unique(np.concatenate(list(title_song_ids)))\n",
    "unique_artist_ids = np.unique(np.concatenate(list(artist_ids)))\n",
    "unique_Emotion_Quadrant_ids = np.unique(np.concatenate(list(Emotion_Quadrant_ids)))"
   ]
  },
  {
   "cell_type": "code",
   "execution_count": null,
   "metadata": {
    "colab": {
     "base_uri": "https://localhost:8080/"
    },
    "id": "_SkWGhfdgeYv",
    "outputId": "3c46ac8a-b692-4919-fbb1-e7876606a1c5"
   },
   "outputs": [
    {
     "data": {
      "text/plain": [
       "array([ 1,  3,  5,  8, 10, 13, 15, 17, 20, 22, 25, 27, 30, 32, 34, 37, 39,\n",
       "       42, 44, 47])"
      ]
     },
     "execution_count": 23,
     "metadata": {},
     "output_type": "execute_result"
    }
   ],
   "source": [
    "# Calculate the number of total listeners of each song\n",
    "total_listener = np.concatenate(list(train_tf.map(lambda x: x[\"total_listener\"]).batch(1000)))\n",
    "\n",
    "max_total_listener = total_listener.max()\n",
    "min_total_listener = total_listener.min()\n",
    "\n",
    "total_listener_buckets = np.linspace(\n",
    "    min_total_listener, max_total_listener, num=20, dtype = int\n",
    ")\n",
    "\n",
    "total_listener_buckets"
   ]
  },
  {
   "cell_type": "code",
   "execution_count": null,
   "metadata": {
    "colab": {
     "base_uri": "https://localhost:8080/"
    },
    "id": "xBAAJqWOgqND",
    "outputId": "a60f607e-746f-4d80-9fad-f1bcfc499d49"
   },
   "outputs": [
    {
     "data": {
      "text/plain": [
       "array([ 1, 22, 44, 65, 87])"
      ]
     },
     "execution_count": 24,
     "metadata": {},
     "output_type": "execute_result"
    }
   ],
   "source": [
    "# Calculate the number of the average playcount of each song\n",
    "avg_plays = np.concatenate(list(train_tf.map(lambda x: x[\"avg_plays\"]).batch(1000)))\n",
    "\n",
    "max_avg_plays = avg_plays.max()\n",
    "min_avg_plays = avg_plays.min()\n",
    "\n",
    "avg_plays_buckets = np.linspace(\n",
    "    min_avg_plays, max_avg_plays, num=5, dtype = int\n",
    ")\n",
    "\n",
    "avg_plays_buckets"
   ]
  },
  {
   "cell_type": "markdown",
   "metadata": {
    "id": "UnyzIVWujorJ"
   },
   "source": [
    "## Modeling"
   ]
  },
  {
   "cell_type": "code",
   "execution_count": null,
   "metadata": {
    "id": "ScElODA1gxM-"
   },
   "outputs": [],
   "source": [
    "class UserModel(tf.keras.Model):\n",
    "\n",
    "    def __init__(self):\n",
    "\n",
    "        super().__init__()\n",
    "\n",
    "        self.user_query_model = tf.keras.Sequential([\n",
    "            tf.keras.layers.InputLayer(input_shape=(1,), name = 'user_input', dtype = tf.string),\n",
    "            tf.keras.layers.StringLookup(vocabulary=unique_user_ids, mask_token=None),\n",
    "            tf.keras.layers.Embedding(\n",
    "                input_dim = len(unique_user_ids) + 1,\n",
    "                output_dim = 32),\n",
    "            tf.keras.layers.Flatten(name='FlattenUser')\n",
    "            ])\n",
    "\n",
    "        self.song_query_model = tf.keras.Sequential([\n",
    "            tf.keras.layers.InputLayer(input_shape=(1,), name = 'song_input', dtype = tf.string),\n",
    "            tf.keras.layers.StringLookup(vocabulary=unique_song_ids, mask_token=None),\n",
    "            tf.keras.layers.Embedding(\n",
    "                input_dim = len(unique_song_ids) + 1,\n",
    "                output_dim = 32),\n",
    "            tf.keras.layers.Flatten(name='FlattenUserSong')\n",
    "        ])\n",
    "\n",
    "        # user_segment\n",
    "        self.segment_query_model = tf.keras.Sequential([\n",
    "            tf.keras.layers.InputLayer(input_shape=(1,), name = 'segment_input', dtype = tf.string),\n",
    "            tf.keras.layers.StringLookup(vocabulary=unique_segment_ids, mask_token=None),\n",
    "            tf.keras.layers.Embedding(\n",
    "                input_dim = len(unique_segment_ids) + 1,\n",
    "                output_dim = 32),\n",
    "            tf.keras.layers.Flatten(name='FlattenUserSong')\n",
    "        ])\n",
    "\n",
    "\n",
    "    def call(self, inputs):\n",
    "\n",
    "        return tf.concat([\n",
    "                self.user_query_model(inputs[\"user_id\"]),\n",
    "                self.song_query_model(inputs[\"track_id\"]),\n",
    "                self.segment_query_model(inputs[\"segment\"]),\n",
    "            ], axis = 1)"
   ]
  },
  {
   "cell_type": "code",
   "execution_count": 27,
   "metadata": {
    "colab": {
     "base_uri": "https://localhost:8080/"
    },
    "id": "nMSWv2nchiA-",
    "outputId": "09e75cf5-7290-451f-f919-0bb7c433f5fa"
   },
   "outputs": [
    {
     "data": {
      "text/plain": [
       "<__main__.UserModel at 0x7e778b10a4a0>"
      ]
     },
     "execution_count": 27,
     "metadata": {},
     "output_type": "execute_result"
    }
   ],
   "source": [
    "UserModel()"
   ]
  },
  {
   "cell_type": "code",
   "execution_count": 28,
   "metadata": {
    "id": "KQmJxyVqiEh2"
   },
   "outputs": [],
   "source": [
    "class SongModel(tf.keras.Model):\n",
    "\n",
    "    def __init__(self):\n",
    "        super().__init__()\n",
    "\n",
    "        self.song_candidate_model = tf.keras.Sequential([\n",
    "            tf.keras.layers.InputLayer(input_shape=(1,), name = 'track_id', dtype = tf.string),\n",
    "            tf.keras.layers.StringLookup(vocabulary=unique_song_ids, mask_token=None),\n",
    "            tf.keras.layers.Embedding(len(unique_song_ids) + 1, 32),\n",
    "            tf.keras.layers.Flatten(name='FlattenCandidateTitle')\n",
    "        ])\n",
    "\n",
    "        self.emotion_candidate_model = tf.keras.Sequential([\n",
    "            tf.keras.layers.InputLayer(input_shape=(1,), name = 'Emotion Quadrant', dtype = tf.string),\n",
    "            tf.keras.layers.StringLookup(vocabulary=unique_Emotion_Quadrant_ids, mask_token=None),\n",
    "            tf.keras.layers.Embedding(len(unique_Emotion_Quadrant_ids) + 1, 32),\n",
    "            tf.keras.layers.Flatten(name='FlattenCandidateTitle')\n",
    "        ])\n",
    "\n",
    "        self.artitst_candidate_model = tf.keras.Sequential([\n",
    "            tf.keras.layers.InputLayer(input_shape=(1,), name = 'artist', dtype = tf.string),\n",
    "            tf.keras.layers.StringLookup(vocabulary=unique_artist_ids, mask_token=None),\n",
    "            tf.keras.layers.Embedding(len(unique_artist_ids) + 1, 32),\n",
    "            tf.keras.layers.Flatten(name='FlattenCandidateTitle')\n",
    "        ])\n",
    "\n",
    "        self.title_text_embedding = tf.keras.Sequential([\n",
    "            tf.keras.layers.InputLayer(input_shape=(1,), name='title_text', dtype = tf.string),\n",
    "            tf.keras.layers.StringLookup(vocabulary=unique_title_song_ids, mask_token=None),\n",
    "            tf.keras.layers.Embedding(len(unique_title_song_ids)+1, 32, mask_zero=True),\n",
    "            tf.keras.layers.Flatten(name='FlattenCandidatesTitle'),\n",
    "    ])\n",
    "        self.total_listerners = tf.keras.Sequential([\n",
    "            tf.keras.layers.InputLayer(input_shape=(1,), name = 'total_listener_buckets_input', dtype = tf.int64),\n",
    "            tf.keras.layers.Discretization(total_listener_buckets.tolist()),\n",
    "            tf.keras.layers.Embedding(len(total_listener_buckets) + 1, 32),\n",
    "            tf.keras.layers.Flatten(name='FlattenMerchantMonthlySales')\n",
    "            ])\n",
    "\n",
    "    def call(self, titles):\n",
    "        return tf.concat([\n",
    "            self.song_candidate_model(titles['track_id']),\n",
    "            self.title_text_embedding(titles['song_title']),\n",
    "            self.artitst_candidate_model(titles['artist']),\n",
    "            self.total_listerners(titles['total_listener']),\n",
    "            self.emotion_candidate_model(titles['Emotion Quadrant']),\n",
    "            ], axis = 1)"
   ]
  },
  {
   "cell_type": "code",
   "execution_count": 29,
   "metadata": {
    "colab": {
     "base_uri": "https://localhost:8080/"
    },
    "id": "vufulkwAjmK4",
    "outputId": "0dd51dee-399b-4c45-8b4e-28b5bf757ad6"
   },
   "outputs": [
    {
     "data": {
      "text/plain": [
       "<__main__.SongModel at 0x7e778b0f4880>"
      ]
     },
     "execution_count": 29,
     "metadata": {},
     "output_type": "execute_result"
    }
   ],
   "source": [
    "SongModel()"
   ]
  },
  {
   "cell_type": "code",
   "execution_count": 30,
   "metadata": {
    "id": "9I31dX9Mj6Tt"
   },
   "outputs": [],
   "source": [
    "class CandidatesModel(tfrs.models.Model):\n",
    "\n",
    "    def __init__(self):\n",
    "\n",
    "        super().__init__()\n",
    "\n",
    "        self.query_model = tf.keras.Sequential([\n",
    "            UserModel(),\n",
    "            tf.keras.layers.Dense(32)\n",
    "        ])\n",
    "        self.candidate_model = tf.keras.Sequential([\n",
    "            SongModel(),\n",
    "            tf.keras.layers.Dense(32)\n",
    "        ])\n",
    "\n",
    "        self.task = tfrs.tasks.Retrieval(\n",
    "            metrics=tfrs.metrics.FactorizedTopK(\n",
    "                candidates=song.batch(128).map(self.candidate_model),\n",
    "            ),\n",
    "        )\n",
    "\n",
    "    def compute_loss(self, features, training=False):\n",
    "\n",
    "        query_embeddings = self.query_model({\n",
    "            \"user_id\": features[\"user_id\"],\n",
    "            'track_id': features[\"track_id\"],\n",
    "            'segment': features[\"segment\"]\n",
    "        })\n",
    "\n",
    "        candidates_embeddings = self.candidate_model({\n",
    "            'track_id': features[\"track_id\"],\n",
    "            'song_title': features[\"song_title\"],\n",
    "            'total_listener': features[\"total_listener\"],\n",
    "            'artist': features[\"artist\"],\n",
    "            'Emotion Quadrant': features[\"Emotion Quadrant\"]\n",
    "        })\n",
    "\n",
    "        return self.task(query_embeddings, candidates_embeddings)"
   ]
  },
  {
   "cell_type": "markdown",
   "metadata": {
    "id": "9gFLTv-WkVNQ"
   },
   "source": [
    "## Train"
   ]
  },
  {
   "cell_type": "code",
   "execution_count": 31,
   "metadata": {
    "id": "OdqoZUN7kWJa"
   },
   "outputs": [],
   "source": [
    "candidates_model = CandidatesModel()"
   ]
  },
  {
   "cell_type": "code",
   "execution_count": null,
   "metadata": {
    "id": "GnIMj6yUkdBN"
   },
   "outputs": [],
   "source": [
    "callbacks = [\n",
    "    tf.keras.callbacks.EarlyStopping(monitor='loss', patience=7),\n",
    "    tf.keras.callbacks.ModelCheckpoint(filepath='./logs/models', save_weights_only=True, save_best_only=True, save_freq=\"epoch\",),\n",
    "    tf.keras.callbacks.TensorBoard(log_dir='./logs'),\n",
    "]\n",
    "\n",
    "candidates_model.compile(\n",
    "    run_eagerly=True,\n",
    "    optimizer=tf.keras.optimizers.Adam(learning_rate=0.0001),\n",
    ")"
   ]
  },
  {
   "cell_type": "code",
   "execution_count": null,
   "metadata": {
    "colab": {
     "base_uri": "https://localhost:8080/"
    },
    "id": "wjciuTu1PqMi",
    "outputId": "51c6904d-4f14-4f1b-d401-52b8e962e0af"
   },
   "outputs": [
    {
     "name": "stdout",
     "output_type": "stream",
     "text": [
      "Epoch 1/100\n",
      "22/22 [==============================] - 116s 5s/step - factorized_top_k/top_1_categorical_accuracy: 0.0523 - factorized_top_k/top_5_categorical_accuracy: 0.1811 - factorized_top_k/top_10_categorical_accuracy: 0.2493 - factorized_top_k/top_50_categorical_accuracy: 0.4353 - factorized_top_k/top_100_categorical_accuracy: 0.5260 - loss: 6341.3077 - regularization_loss: 0.0000e+00 - total_loss: 6341.3077 - val_factorized_top_k/top_1_categorical_accuracy: 0.0508 - val_factorized_top_k/top_5_categorical_accuracy: 0.1768 - val_factorized_top_k/top_10_categorical_accuracy: 0.2442 - val_factorized_top_k/top_50_categorical_accuracy: 0.4375 - val_factorized_top_k/top_100_categorical_accuracy: 0.5312 - val_loss: 3874.2170 - val_regularization_loss: 0.0000e+00 - val_total_loss: 3874.2170\n",
      "Epoch 2/100\n",
      "22/22 [==============================] - 160s 7s/step - factorized_top_k/top_1_categorical_accuracy: 0.0471 - factorized_top_k/top_5_categorical_accuracy: 0.1678 - factorized_top_k/top_10_categorical_accuracy: 0.2392 - factorized_top_k/top_50_categorical_accuracy: 0.4332 - factorized_top_k/top_100_categorical_accuracy: 0.5307 - loss: 6318.1386 - regularization_loss: 0.0000e+00 - total_loss: 6318.1386 - val_factorized_top_k/top_1_categorical_accuracy: 0.0444 - val_factorized_top_k/top_5_categorical_accuracy: 0.1607 - val_factorized_top_k/top_10_categorical_accuracy: 0.2292 - val_factorized_top_k/top_50_categorical_accuracy: 0.4312 - val_factorized_top_k/top_100_categorical_accuracy: 0.5299 - val_loss: 3857.2065 - val_regularization_loss: 0.0000e+00 - val_total_loss: 3857.2065\n",
      "Epoch 3/100\n",
      "22/22 [==============================] - 115s 5s/step - factorized_top_k/top_1_categorical_accuracy: 0.0380 - factorized_top_k/top_5_categorical_accuracy: 0.1483 - factorized_top_k/top_10_categorical_accuracy: 0.2179 - factorized_top_k/top_50_categorical_accuracy: 0.4201 - factorized_top_k/top_100_categorical_accuracy: 0.5235 - loss: 6288.0889 - regularization_loss: 0.0000e+00 - total_loss: 6288.0889 - val_factorized_top_k/top_1_categorical_accuracy: 0.0368 - val_factorized_top_k/top_5_categorical_accuracy: 0.1412 - val_factorized_top_k/top_10_categorical_accuracy: 0.2082 - val_factorized_top_k/top_50_categorical_accuracy: 0.4091 - val_factorized_top_k/top_100_categorical_accuracy: 0.5170 - val_loss: 3835.2075 - val_regularization_loss: 0.0000e+00 - val_total_loss: 3835.2075\n",
      "Epoch 4/100\n",
      "22/22 [==============================] - 119s 5s/step - factorized_top_k/top_1_categorical_accuracy: 0.0318 - factorized_top_k/top_5_categorical_accuracy: 0.1285 - factorized_top_k/top_10_categorical_accuracy: 0.1941 - factorized_top_k/top_50_categorical_accuracy: 0.3949 - factorized_top_k/top_100_categorical_accuracy: 0.5041 - loss: 6249.6787 - regularization_loss: 0.0000e+00 - total_loss: 6249.6787 - val_factorized_top_k/top_1_categorical_accuracy: 0.0332 - val_factorized_top_k/top_5_categorical_accuracy: 0.1216 - val_factorized_top_k/top_10_categorical_accuracy: 0.1834 - val_factorized_top_k/top_50_categorical_accuracy: 0.3815 - val_factorized_top_k/top_100_categorical_accuracy: 0.4923 - val_loss: 3807.3010 - val_regularization_loss: 0.0000e+00 - val_total_loss: 3807.3010\n",
      "Epoch 5/100\n",
      "22/22 [==============================] - 115s 5s/step - factorized_top_k/top_1_categorical_accuracy: 0.0250 - factorized_top_k/top_5_categorical_accuracy: 0.1094 - factorized_top_k/top_10_categorical_accuracy: 0.1671 - factorized_top_k/top_50_categorical_accuracy: 0.3661 - factorized_top_k/top_100_categorical_accuracy: 0.4751 - loss: 6201.7360 - regularization_loss: 0.0000e+00 - total_loss: 6201.7360 - val_factorized_top_k/top_1_categorical_accuracy: 0.0230 - val_factorized_top_k/top_5_categorical_accuracy: 0.1058 - val_factorized_top_k/top_10_categorical_accuracy: 0.1574 - val_factorized_top_k/top_50_categorical_accuracy: 0.3529 - val_factorized_top_k/top_100_categorical_accuracy: 0.4611 - val_loss: 3772.8438 - val_regularization_loss: 0.0000e+00 - val_total_loss: 3772.8438\n",
      "Epoch 6/100\n",
      "22/22 [==============================] - 114s 5s/step - factorized_top_k/top_1_categorical_accuracy: 0.0196 - factorized_top_k/top_5_categorical_accuracy: 0.0945 - factorized_top_k/top_10_categorical_accuracy: 0.1433 - factorized_top_k/top_50_categorical_accuracy: 0.3345 - factorized_top_k/top_100_categorical_accuracy: 0.4456 - loss: 6143.7533 - regularization_loss: 0.0000e+00 - total_loss: 6143.7533 - val_factorized_top_k/top_1_categorical_accuracy: 0.0164 - val_factorized_top_k/top_5_categorical_accuracy: 0.0892 - val_factorized_top_k/top_10_categorical_accuracy: 0.1359 - val_factorized_top_k/top_50_categorical_accuracy: 0.3201 - val_factorized_top_k/top_100_categorical_accuracy: 0.4273 - val_loss: 3731.7537 - val_regularization_loss: 0.0000e+00 - val_total_loss: 3731.7537\n",
      "Epoch 7/100\n",
      "22/22 [==============================] - 115s 5s/step - factorized_top_k/top_1_categorical_accuracy: 0.0145 - factorized_top_k/top_5_categorical_accuracy: 0.0786 - factorized_top_k/top_10_categorical_accuracy: 0.1250 - factorized_top_k/top_50_categorical_accuracy: 0.3051 - factorized_top_k/top_100_categorical_accuracy: 0.4122 - loss: 6076.3055 - regularization_loss: 0.0000e+00 - total_loss: 6076.3055 - val_factorized_top_k/top_1_categorical_accuracy: 0.0127 - val_factorized_top_k/top_5_categorical_accuracy: 0.0752 - val_factorized_top_k/top_10_categorical_accuracy: 0.1185 - val_factorized_top_k/top_50_categorical_accuracy: 0.2962 - val_factorized_top_k/top_100_categorical_accuracy: 0.4027 - val_loss: 3684.7676 - val_regularization_loss: 0.0000e+00 - val_total_loss: 3684.7676\n",
      "Epoch 8/100\n",
      "22/22 [==============================] - 115s 5s/step - factorized_top_k/top_1_categorical_accuracy: 0.0123 - factorized_top_k/top_5_categorical_accuracy: 0.0679 - factorized_top_k/top_10_categorical_accuracy: 0.1093 - factorized_top_k/top_50_categorical_accuracy: 0.2817 - factorized_top_k/top_100_categorical_accuracy: 0.3875 - loss: 6001.2527 - regularization_loss: 0.0000e+00 - total_loss: 6001.2527 - val_factorized_top_k/top_1_categorical_accuracy: 0.0102 - val_factorized_top_k/top_5_categorical_accuracy: 0.0648 - val_factorized_top_k/top_10_categorical_accuracy: 0.1058 - val_factorized_top_k/top_50_categorical_accuracy: 0.2720 - val_factorized_top_k/top_100_categorical_accuracy: 0.3766 - val_loss: 3633.4702 - val_regularization_loss: 0.0000e+00 - val_total_loss: 3633.4702\n",
      "Epoch 9/100\n",
      "22/22 [==============================] - 119s 5s/step - factorized_top_k/top_1_categorical_accuracy: 0.0099 - factorized_top_k/top_5_categorical_accuracy: 0.0592 - factorized_top_k/top_10_categorical_accuracy: 0.0985 - factorized_top_k/top_50_categorical_accuracy: 0.2636 - factorized_top_k/top_100_categorical_accuracy: 0.3662 - loss: 5921.4401 - regularization_loss: 0.0000e+00 - total_loss: 5921.4401 - val_factorized_top_k/top_1_categorical_accuracy: 0.0093 - val_factorized_top_k/top_5_categorical_accuracy: 0.0582 - val_factorized_top_k/top_10_categorical_accuracy: 0.0962 - val_factorized_top_k/top_50_categorical_accuracy: 0.2579 - val_factorized_top_k/top_100_categorical_accuracy: 0.3615 - val_loss: 3579.9329 - val_regularization_loss: 0.0000e+00 - val_total_loss: 3579.9329\n",
      "Epoch 10/100\n",
      "22/22 [==============================] - 114s 5s/step - factorized_top_k/top_1_categorical_accuracy: 0.0095 - factorized_top_k/top_5_categorical_accuracy: 0.0531 - factorized_top_k/top_10_categorical_accuracy: 0.0909 - factorized_top_k/top_50_categorical_accuracy: 0.2524 - factorized_top_k/top_100_categorical_accuracy: 0.3536 - loss: 5839.8658 - regularization_loss: 0.0000e+00 - total_loss: 5839.8658 - val_factorized_top_k/top_1_categorical_accuracy: 0.0079 - val_factorized_top_k/top_5_categorical_accuracy: 0.0529 - val_factorized_top_k/top_10_categorical_accuracy: 0.0894 - val_factorized_top_k/top_50_categorical_accuracy: 0.2491 - val_factorized_top_k/top_100_categorical_accuracy: 0.3513 - val_loss: 3526.0520 - val_regularization_loss: 0.0000e+00 - val_total_loss: 3526.0520\n",
      "Epoch 11/100\n",
      "22/22 [==============================] - 114s 5s/step - factorized_top_k/top_1_categorical_accuracy: 0.0080 - factorized_top_k/top_5_categorical_accuracy: 0.0499 - factorized_top_k/top_10_categorical_accuracy: 0.0856 - factorized_top_k/top_50_categorical_accuracy: 0.2451 - factorized_top_k/top_100_categorical_accuracy: 0.3478 - loss: 5758.7544 - regularization_loss: 0.0000e+00 - total_loss: 5758.7544 - val_factorized_top_k/top_1_categorical_accuracy: 0.0083 - val_factorized_top_k/top_5_categorical_accuracy: 0.0505 - val_factorized_top_k/top_10_categorical_accuracy: 0.0843 - val_factorized_top_k/top_50_categorical_accuracy: 0.2410 - val_factorized_top_k/top_100_categorical_accuracy: 0.3489 - val_loss: 3473.0144 - val_regularization_loss: 0.0000e+00 - val_total_loss: 3473.0144\n",
      "Epoch 12/100\n",
      "22/22 [==============================] - 114s 5s/step - factorized_top_k/top_1_categorical_accuracy: 0.0079 - factorized_top_k/top_5_categorical_accuracy: 0.0473 - factorized_top_k/top_10_categorical_accuracy: 0.0821 - factorized_top_k/top_50_categorical_accuracy: 0.2418 - factorized_top_k/top_100_categorical_accuracy: 0.3482 - loss: 5679.1383 - regularization_loss: 0.0000e+00 - total_loss: 5679.1383 - val_factorized_top_k/top_1_categorical_accuracy: 0.0073 - val_factorized_top_k/top_5_categorical_accuracy: 0.0488 - val_factorized_top_k/top_10_categorical_accuracy: 0.0822 - val_factorized_top_k/top_50_categorical_accuracy: 0.2394 - val_factorized_top_k/top_100_categorical_accuracy: 0.3532 - val_loss: 3421.2305 - val_regularization_loss: 0.0000e+00 - val_total_loss: 3421.2305\n",
      "Epoch 13/100\n",
      "22/22 [==============================] - 118s 5s/step - factorized_top_k/top_1_categorical_accuracy: 0.0083 - factorized_top_k/top_5_categorical_accuracy: 0.0488 - factorized_top_k/top_10_categorical_accuracy: 0.0825 - factorized_top_k/top_50_categorical_accuracy: 0.2438 - factorized_top_k/top_100_categorical_accuracy: 0.3519 - loss: 5601.1352 - regularization_loss: 0.0000e+00 - total_loss: 5601.1352 - val_factorized_top_k/top_1_categorical_accuracy: 0.0090 - val_factorized_top_k/top_5_categorical_accuracy: 0.0501 - val_factorized_top_k/top_10_categorical_accuracy: 0.0859 - val_factorized_top_k/top_50_categorical_accuracy: 0.2438 - val_factorized_top_k/top_100_categorical_accuracy: 0.3565 - val_loss: 3370.6611 - val_regularization_loss: 0.0000e+00 - val_total_loss: 3370.6611\n",
      "Epoch 14/100\n",
      "22/22 [==============================] - 114s 5s/step - factorized_top_k/top_1_categorical_accuracy: 0.0086 - factorized_top_k/top_5_categorical_accuracy: 0.0510 - factorized_top_k/top_10_categorical_accuracy: 0.0865 - factorized_top_k/top_50_categorical_accuracy: 0.2492 - factorized_top_k/top_100_categorical_accuracy: 0.3578 - loss: 5524.5484 - regularization_loss: 0.0000e+00 - total_loss: 5524.5484 - val_factorized_top_k/top_1_categorical_accuracy: 0.0094 - val_factorized_top_k/top_5_categorical_accuracy: 0.0531 - val_factorized_top_k/top_10_categorical_accuracy: 0.0884 - val_factorized_top_k/top_50_categorical_accuracy: 0.2537 - val_factorized_top_k/top_100_categorical_accuracy: 0.3644 - val_loss: 3321.1917 - val_regularization_loss: 0.0000e+00 - val_total_loss: 3321.1917\n",
      "Epoch 15/100\n",
      "22/22 [==============================] - 114s 5s/step - factorized_top_k/top_1_categorical_accuracy: 0.0100 - factorized_top_k/top_5_categorical_accuracy: 0.0544 - factorized_top_k/top_10_categorical_accuracy: 0.0908 - factorized_top_k/top_50_categorical_accuracy: 0.2579 - factorized_top_k/top_100_categorical_accuracy: 0.3674 - loss: 5449.2846 - regularization_loss: 0.0000e+00 - total_loss: 5449.2846 - val_factorized_top_k/top_1_categorical_accuracy: 0.0107 - val_factorized_top_k/top_5_categorical_accuracy: 0.0552 - val_factorized_top_k/top_10_categorical_accuracy: 0.0918 - val_factorized_top_k/top_50_categorical_accuracy: 0.2619 - val_factorized_top_k/top_100_categorical_accuracy: 0.3705 - val_loss: 3272.8005 - val_regularization_loss: 0.0000e+00 - val_total_loss: 3272.8005\n",
      "Epoch 16/100\n",
      "22/22 [==============================] - 114s 5s/step - factorized_top_k/top_1_categorical_accuracy: 0.0119 - factorized_top_k/top_5_categorical_accuracy: 0.0590 - factorized_top_k/top_10_categorical_accuracy: 0.0973 - factorized_top_k/top_50_categorical_accuracy: 0.2667 - factorized_top_k/top_100_categorical_accuracy: 0.3738 - loss: 5375.4173 - regularization_loss: 0.0000e+00 - total_loss: 5375.4173 - val_factorized_top_k/top_1_categorical_accuracy: 0.0128 - val_factorized_top_k/top_5_categorical_accuracy: 0.0601 - val_factorized_top_k/top_10_categorical_accuracy: 0.0984 - val_factorized_top_k/top_50_categorical_accuracy: 0.2715 - val_factorized_top_k/top_100_categorical_accuracy: 0.3817 - val_loss: 3225.5339 - val_regularization_loss: 0.0000e+00 - val_total_loss: 3225.5339\n",
      "Epoch 17/100\n",
      "22/22 [==============================] - 114s 5s/step - factorized_top_k/top_1_categorical_accuracy: 0.0142 - factorized_top_k/top_5_categorical_accuracy: 0.0642 - factorized_top_k/top_10_categorical_accuracy: 0.1034 - factorized_top_k/top_50_categorical_accuracy: 0.2774 - factorized_top_k/top_100_categorical_accuracy: 0.3863 - loss: 5303.0434 - regularization_loss: 0.0000e+00 - total_loss: 5303.0434 - val_factorized_top_k/top_1_categorical_accuracy: 0.0147 - val_factorized_top_k/top_5_categorical_accuracy: 0.0648 - val_factorized_top_k/top_10_categorical_accuracy: 0.1054 - val_factorized_top_k/top_50_categorical_accuracy: 0.2823 - val_factorized_top_k/top_100_categorical_accuracy: 0.3934 - val_loss: 3179.4009 - val_regularization_loss: 0.0000e+00 - val_total_loss: 3179.4009\n",
      "Epoch 18/100\n",
      "22/22 [==============================] - 115s 5s/step - factorized_top_k/top_1_categorical_accuracy: 0.0154 - factorized_top_k/top_5_categorical_accuracy: 0.0687 - factorized_top_k/top_10_categorical_accuracy: 0.1095 - factorized_top_k/top_50_categorical_accuracy: 0.2872 - factorized_top_k/top_100_categorical_accuracy: 0.3988 - loss: 5232.1269 - regularization_loss: 0.0000e+00 - total_loss: 5232.1269 - val_factorized_top_k/top_1_categorical_accuracy: 0.0156 - val_factorized_top_k/top_5_categorical_accuracy: 0.0701 - val_factorized_top_k/top_10_categorical_accuracy: 0.1125 - val_factorized_top_k/top_50_categorical_accuracy: 0.2939 - val_factorized_top_k/top_100_categorical_accuracy: 0.4077 - val_loss: 3134.2944 - val_regularization_loss: 0.0000e+00 - val_total_loss: 3134.2944\n",
      "Epoch 19/100\n",
      "22/22 [==============================] - 115s 5s/step - factorized_top_k/top_1_categorical_accuracy: 0.0172 - factorized_top_k/top_5_categorical_accuracy: 0.0740 - factorized_top_k/top_10_categorical_accuracy: 0.1184 - factorized_top_k/top_50_categorical_accuracy: 0.3010 - factorized_top_k/top_100_categorical_accuracy: 0.4143 - loss: 5162.4304 - regularization_loss: 0.0000e+00 - total_loss: 5162.4304 - val_factorized_top_k/top_1_categorical_accuracy: 0.0172 - val_factorized_top_k/top_5_categorical_accuracy: 0.0758 - val_factorized_top_k/top_10_categorical_accuracy: 0.1227 - val_factorized_top_k/top_50_categorical_accuracy: 0.3081 - val_factorized_top_k/top_100_categorical_accuracy: 0.4257 - val_loss: 3089.9871 - val_regularization_loss: 0.0000e+00 - val_total_loss: 3089.9871\n",
      "Epoch 20/100\n",
      "22/22 [==============================] - 119s 5s/step - factorized_top_k/top_1_categorical_accuracy: 0.0199 - factorized_top_k/top_5_categorical_accuracy: 0.0805 - factorized_top_k/top_10_categorical_accuracy: 0.1292 - factorized_top_k/top_50_categorical_accuracy: 0.3166 - factorized_top_k/top_100_categorical_accuracy: 0.4313 - loss: 5093.5525 - regularization_loss: 0.0000e+00 - total_loss: 5093.5525 - val_factorized_top_k/top_1_categorical_accuracy: 0.0204 - val_factorized_top_k/top_5_categorical_accuracy: 0.0813 - val_factorized_top_k/top_10_categorical_accuracy: 0.1358 - val_factorized_top_k/top_50_categorical_accuracy: 0.3247 - val_factorized_top_k/top_100_categorical_accuracy: 0.4450 - val_loss: 3046.1814 - val_regularization_loss: 0.0000e+00 - val_total_loss: 3046.1814\n",
      "Epoch 21/100\n",
      "22/22 [==============================] - 115s 5s/step - factorized_top_k/top_1_categorical_accuracy: 0.0212 - factorized_top_k/top_5_categorical_accuracy: 0.0881 - factorized_top_k/top_10_categorical_accuracy: 0.1413 - factorized_top_k/top_50_categorical_accuracy: 0.3347 - factorized_top_k/top_100_categorical_accuracy: 0.4495 - loss: 5025.0243 - regularization_loss: 0.0000e+00 - total_loss: 5025.0243 - val_factorized_top_k/top_1_categorical_accuracy: 0.0228 - val_factorized_top_k/top_5_categorical_accuracy: 0.0914 - val_factorized_top_k/top_10_categorical_accuracy: 0.1470 - val_factorized_top_k/top_50_categorical_accuracy: 0.3423 - val_factorized_top_k/top_100_categorical_accuracy: 0.4627 - val_loss: 3002.5815 - val_regularization_loss: 0.0000e+00 - val_total_loss: 3002.5815\n",
      "Epoch 22/100\n",
      "22/22 [==============================] - 114s 5s/step - factorized_top_k/top_1_categorical_accuracy: 0.0229 - factorized_top_k/top_5_categorical_accuracy: 0.0979 - factorized_top_k/top_10_categorical_accuracy: 0.1534 - factorized_top_k/top_50_categorical_accuracy: 0.3518 - factorized_top_k/top_100_categorical_accuracy: 0.4678 - loss: 4956.4103 - regularization_loss: 0.0000e+00 - total_loss: 4956.4103 - val_factorized_top_k/top_1_categorical_accuracy: 0.0252 - val_factorized_top_k/top_5_categorical_accuracy: 0.1027 - val_factorized_top_k/top_10_categorical_accuracy: 0.1603 - val_factorized_top_k/top_50_categorical_accuracy: 0.3608 - val_factorized_top_k/top_100_categorical_accuracy: 0.4808 - val_loss: 2958.9355 - val_regularization_loss: 0.0000e+00 - val_total_loss: 2958.9355\n",
      "Epoch 23/100\n",
      "22/22 [==============================] - 114s 5s/step - factorized_top_k/top_1_categorical_accuracy: 0.0266 - factorized_top_k/top_5_categorical_accuracy: 0.1090 - factorized_top_k/top_10_categorical_accuracy: 0.1674 - factorized_top_k/top_50_categorical_accuracy: 0.3711 - factorized_top_k/top_100_categorical_accuracy: 0.4874 - loss: 4887.3708 - regularization_loss: 0.0000e+00 - total_loss: 4887.3708 - val_factorized_top_k/top_1_categorical_accuracy: 0.0283 - val_factorized_top_k/top_5_categorical_accuracy: 0.1151 - val_factorized_top_k/top_10_categorical_accuracy: 0.1765 - val_factorized_top_k/top_50_categorical_accuracy: 0.3800 - val_factorized_top_k/top_100_categorical_accuracy: 0.4983 - val_loss: 2915.0566 - val_regularization_loss: 0.0000e+00 - val_total_loss: 2915.0566\n",
      "Epoch 24/100\n",
      "22/22 [==============================] - 116s 5s/step - factorized_top_k/top_1_categorical_accuracy: 0.0309 - factorized_top_k/top_5_categorical_accuracy: 0.1202 - factorized_top_k/top_10_categorical_accuracy: 0.1814 - factorized_top_k/top_50_categorical_accuracy: 0.3897 - factorized_top_k/top_100_categorical_accuracy: 0.5064 - loss: 4817.6866 - regularization_loss: 0.0000e+00 - total_loss: 4817.6866 - val_factorized_top_k/top_1_categorical_accuracy: 0.0315 - val_factorized_top_k/top_5_categorical_accuracy: 0.1268 - val_factorized_top_k/top_10_categorical_accuracy: 0.1900 - val_factorized_top_k/top_50_categorical_accuracy: 0.3998 - val_factorized_top_k/top_100_categorical_accuracy: 0.5170 - val_loss: 2870.8220 - val_regularization_loss: 0.0000e+00 - val_total_loss: 2870.8220\n",
      "Epoch 25/100\n",
      "22/22 [==============================] - 114s 5s/step - factorized_top_k/top_1_categorical_accuracy: 0.0327 - factorized_top_k/top_5_categorical_accuracy: 0.1319 - factorized_top_k/top_10_categorical_accuracy: 0.1979 - factorized_top_k/top_50_categorical_accuracy: 0.4095 - factorized_top_k/top_100_categorical_accuracy: 0.5253 - loss: 4747.2515 - regularization_loss: 0.0000e+00 - total_loss: 4747.2515 - val_factorized_top_k/top_1_categorical_accuracy: 0.0363 - val_factorized_top_k/top_5_categorical_accuracy: 0.1371 - val_factorized_top_k/top_10_categorical_accuracy: 0.2059 - val_factorized_top_k/top_50_categorical_accuracy: 0.4204 - val_factorized_top_k/top_100_categorical_accuracy: 0.5357 - val_loss: 2826.1663 - val_regularization_loss: 0.0000e+00 - val_total_loss: 2826.1663\n",
      "Epoch 26/100\n",
      "22/22 [==============================] - 114s 5s/step - factorized_top_k/top_1_categorical_accuracy: 0.0383 - factorized_top_k/top_5_categorical_accuracy: 0.1448 - factorized_top_k/top_10_categorical_accuracy: 0.2132 - factorized_top_k/top_50_categorical_accuracy: 0.4294 - factorized_top_k/top_100_categorical_accuracy: 0.5441 - loss: 4676.0505 - regularization_loss: 0.0000e+00 - total_loss: 4676.0505 - val_factorized_top_k/top_1_categorical_accuracy: 0.0416 - val_factorized_top_k/top_5_categorical_accuracy: 0.1497 - val_factorized_top_k/top_10_categorical_accuracy: 0.2231 - val_factorized_top_k/top_50_categorical_accuracy: 0.4403 - val_factorized_top_k/top_100_categorical_accuracy: 0.5569 - val_loss: 2781.0713 - val_regularization_loss: 0.0000e+00 - val_total_loss: 2781.0713\n",
      "Epoch 27/100\n",
      "22/22 [==============================] - 114s 5s/step - factorized_top_k/top_1_categorical_accuracy: 0.0446 - factorized_top_k/top_5_categorical_accuracy: 0.1576 - factorized_top_k/top_10_categorical_accuracy: 0.2291 - factorized_top_k/top_50_categorical_accuracy: 0.4475 - factorized_top_k/top_100_categorical_accuracy: 0.5636 - loss: 4604.1351 - regularization_loss: 0.0000e+00 - total_loss: 4604.1351 - val_factorized_top_k/top_1_categorical_accuracy: 0.0433 - val_factorized_top_k/top_5_categorical_accuracy: 0.1634 - val_factorized_top_k/top_10_categorical_accuracy: 0.2382 - val_factorized_top_k/top_50_categorical_accuracy: 0.4580 - val_factorized_top_k/top_100_categorical_accuracy: 0.5742 - val_loss: 2735.5596 - val_regularization_loss: 0.0000e+00 - val_total_loss: 2735.5596\n",
      "Epoch 28/100\n",
      "22/22 [==============================] - 117s 5s/step - factorized_top_k/top_1_categorical_accuracy: 0.0468 - factorized_top_k/top_5_categorical_accuracy: 0.1701 - factorized_top_k/top_10_categorical_accuracy: 0.2446 - factorized_top_k/top_50_categorical_accuracy: 0.4665 - factorized_top_k/top_100_categorical_accuracy: 0.5830 - loss: 4531.6037 - regularization_loss: 0.0000e+00 - total_loss: 4531.6037 - val_factorized_top_k/top_1_categorical_accuracy: 0.0486 - val_factorized_top_k/top_5_categorical_accuracy: 0.1779 - val_factorized_top_k/top_10_categorical_accuracy: 0.2522 - val_factorized_top_k/top_50_categorical_accuracy: 0.4779 - val_factorized_top_k/top_100_categorical_accuracy: 0.5901 - val_loss: 2689.6870 - val_regularization_loss: 0.0000e+00 - val_total_loss: 2689.6870\n",
      "Epoch 29/100\n",
      "22/22 [==============================] - 114s 5s/step - factorized_top_k/top_1_categorical_accuracy: 0.0515 - factorized_top_k/top_5_categorical_accuracy: 0.1847 - factorized_top_k/top_10_categorical_accuracy: 0.2627 - factorized_top_k/top_50_categorical_accuracy: 0.4864 - factorized_top_k/top_100_categorical_accuracy: 0.5993 - loss: 4458.5875 - regularization_loss: 0.0000e+00 - total_loss: 4458.5875 - val_factorized_top_k/top_1_categorical_accuracy: 0.0518 - val_factorized_top_k/top_5_categorical_accuracy: 0.1931 - val_factorized_top_k/top_10_categorical_accuracy: 0.2724 - val_factorized_top_k/top_50_categorical_accuracy: 0.4981 - val_factorized_top_k/top_100_categorical_accuracy: 0.6086 - val_loss: 2643.5388 - val_regularization_loss: 0.0000e+00 - val_total_loss: 2643.5388\n",
      "Epoch 30/100\n",
      "22/22 [==============================] - 115s 5s/step - factorized_top_k/top_1_categorical_accuracy: 0.0564 - factorized_top_k/top_5_categorical_accuracy: 0.1986 - factorized_top_k/top_10_categorical_accuracy: 0.2797 - factorized_top_k/top_50_categorical_accuracy: 0.5038 - factorized_top_k/top_100_categorical_accuracy: 0.6159 - loss: 4385.2435 - regularization_loss: 0.0000e+00 - total_loss: 4385.2435 - val_factorized_top_k/top_1_categorical_accuracy: 0.0607 - val_factorized_top_k/top_5_categorical_accuracy: 0.2066 - val_factorized_top_k/top_10_categorical_accuracy: 0.2893 - val_factorized_top_k/top_50_categorical_accuracy: 0.5148 - val_factorized_top_k/top_100_categorical_accuracy: 0.6251 - val_loss: 2597.2217 - val_regularization_loss: 0.0000e+00 - val_total_loss: 2597.2217\n",
      "Epoch 31/100\n",
      "22/22 [==============================] - 121s 6s/step - factorized_top_k/top_1_categorical_accuracy: 0.0628 - factorized_top_k/top_5_categorical_accuracy: 0.2142 - factorized_top_k/top_10_categorical_accuracy: 0.2966 - factorized_top_k/top_50_categorical_accuracy: 0.5216 - factorized_top_k/top_100_categorical_accuracy: 0.6332 - loss: 4311.7474 - regularization_loss: 0.0000e+00 - total_loss: 4311.7474 - val_factorized_top_k/top_1_categorical_accuracy: 0.0646 - val_factorized_top_k/top_5_categorical_accuracy: 0.2214 - val_factorized_top_k/top_10_categorical_accuracy: 0.3080 - val_factorized_top_k/top_50_categorical_accuracy: 0.5340 - val_factorized_top_k/top_100_categorical_accuracy: 0.6441 - val_loss: 2550.8547 - val_regularization_loss: 0.0000e+00 - val_total_loss: 2550.8547\n",
      "Epoch 32/100\n",
      "22/22 [==============================] - 120s 5s/step - factorized_top_k/top_1_categorical_accuracy: 0.0701 - factorized_top_k/top_5_categorical_accuracy: 0.2298 - factorized_top_k/top_10_categorical_accuracy: 0.3122 - factorized_top_k/top_50_categorical_accuracy: 0.5415 - factorized_top_k/top_100_categorical_accuracy: 0.6503 - loss: 4238.2825 - regularization_loss: 0.0000e+00 - total_loss: 4238.2825 - val_factorized_top_k/top_1_categorical_accuracy: 0.0703 - val_factorized_top_k/top_5_categorical_accuracy: 0.2382 - val_factorized_top_k/top_10_categorical_accuracy: 0.3211 - val_factorized_top_k/top_50_categorical_accuracy: 0.5535 - val_factorized_top_k/top_100_categorical_accuracy: 0.6601 - val_loss: 2504.5583 - val_regularization_loss: 0.0000e+00 - val_total_loss: 2504.5583\n",
      "Epoch 33/100\n",
      "22/22 [==============================] - 116s 5s/step - factorized_top_k/top_1_categorical_accuracy: 0.0742 - factorized_top_k/top_5_categorical_accuracy: 0.2441 - factorized_top_k/top_10_categorical_accuracy: 0.3272 - factorized_top_k/top_50_categorical_accuracy: 0.5601 - factorized_top_k/top_100_categorical_accuracy: 0.6658 - loss: 4165.0277 - regularization_loss: 0.0000e+00 - total_loss: 4165.0277 - val_factorized_top_k/top_1_categorical_accuracy: 0.0787 - val_factorized_top_k/top_5_categorical_accuracy: 0.2512 - val_factorized_top_k/top_10_categorical_accuracy: 0.3378 - val_factorized_top_k/top_50_categorical_accuracy: 0.5706 - val_factorized_top_k/top_100_categorical_accuracy: 0.6753 - val_loss: 2458.4421 - val_regularization_loss: 0.0000e+00 - val_total_loss: 2458.4421\n",
      "Epoch 34/100\n",
      "22/22 [==============================] - 118s 5s/step - factorized_top_k/top_1_categorical_accuracy: 0.0818 - factorized_top_k/top_5_categorical_accuracy: 0.2612 - factorized_top_k/top_10_categorical_accuracy: 0.3449 - factorized_top_k/top_50_categorical_accuracy: 0.5771 - factorized_top_k/top_100_categorical_accuracy: 0.6815 - loss: 4092.1437 - regularization_loss: 0.0000e+00 - total_loss: 4092.1437 - val_factorized_top_k/top_1_categorical_accuracy: 0.0838 - val_factorized_top_k/top_5_categorical_accuracy: 0.2677 - val_factorized_top_k/top_10_categorical_accuracy: 0.3543 - val_factorized_top_k/top_50_categorical_accuracy: 0.5904 - val_factorized_top_k/top_100_categorical_accuracy: 0.6925 - val_loss: 2412.5967 - val_regularization_loss: 0.0000e+00 - val_total_loss: 2412.5967\n",
      "Epoch 35/100\n",
      "22/22 [==============================] - 117s 5s/step - factorized_top_k/top_1_categorical_accuracy: 0.0886 - factorized_top_k/top_5_categorical_accuracy: 0.2785 - factorized_top_k/top_10_categorical_accuracy: 0.3632 - factorized_top_k/top_50_categorical_accuracy: 0.5946 - factorized_top_k/top_100_categorical_accuracy: 0.6977 - loss: 4019.7630 - regularization_loss: 0.0000e+00 - total_loss: 4019.7630 - val_factorized_top_k/top_1_categorical_accuracy: 0.0955 - val_factorized_top_k/top_5_categorical_accuracy: 0.2837 - val_factorized_top_k/top_10_categorical_accuracy: 0.3739 - val_factorized_top_k/top_50_categorical_accuracy: 0.6080 - val_factorized_top_k/top_100_categorical_accuracy: 0.7093 - val_loss: 2367.0896 - val_regularization_loss: 0.0000e+00 - val_total_loss: 2367.0896\n",
      "Epoch 36/100\n",
      "22/22 [==============================] - 117s 5s/step - factorized_top_k/top_1_categorical_accuracy: 0.0957 - factorized_top_k/top_5_categorical_accuracy: 0.2949 - factorized_top_k/top_10_categorical_accuracy: 0.3807 - factorized_top_k/top_50_categorical_accuracy: 0.6123 - factorized_top_k/top_100_categorical_accuracy: 0.7131 - loss: 3947.9828 - regularization_loss: 0.0000e+00 - total_loss: 3947.9828 - val_factorized_top_k/top_1_categorical_accuracy: 0.0992 - val_factorized_top_k/top_5_categorical_accuracy: 0.3052 - val_factorized_top_k/top_10_categorical_accuracy: 0.3931 - val_factorized_top_k/top_50_categorical_accuracy: 0.6260 - val_factorized_top_k/top_100_categorical_accuracy: 0.7251 - val_loss: 2321.9626 - val_regularization_loss: 0.0000e+00 - val_total_loss: 2321.9626\n",
      "Epoch 37/100\n",
      "22/22 [==============================] - 120s 5s/step - factorized_top_k/top_1_categorical_accuracy: 0.1070 - factorized_top_k/top_5_categorical_accuracy: 0.3140 - factorized_top_k/top_10_categorical_accuracy: 0.3995 - factorized_top_k/top_50_categorical_accuracy: 0.6298 - factorized_top_k/top_100_categorical_accuracy: 0.7276 - loss: 3876.8643 - regularization_loss: 0.0000e+00 - total_loss: 3876.8643 - val_factorized_top_k/top_1_categorical_accuracy: 0.1074 - val_factorized_top_k/top_5_categorical_accuracy: 0.3225 - val_factorized_top_k/top_10_categorical_accuracy: 0.4112 - val_factorized_top_k/top_50_categorical_accuracy: 0.6434 - val_factorized_top_k/top_100_categorical_accuracy: 0.7375 - val_loss: 2277.2329 - val_regularization_loss: 0.0000e+00 - val_total_loss: 2277.2329\n",
      "Epoch 38/100\n",
      "22/22 [==============================] - 117s 5s/step - factorized_top_k/top_1_categorical_accuracy: 0.1136 - factorized_top_k/top_5_categorical_accuracy: 0.3317 - factorized_top_k/top_10_categorical_accuracy: 0.4171 - factorized_top_k/top_50_categorical_accuracy: 0.6466 - factorized_top_k/top_100_categorical_accuracy: 0.7417 - loss: 3806.4347 - regularization_loss: 0.0000e+00 - total_loss: 3806.4347 - val_factorized_top_k/top_1_categorical_accuracy: 0.1165 - val_factorized_top_k/top_5_categorical_accuracy: 0.3407 - val_factorized_top_k/top_10_categorical_accuracy: 0.4309 - val_factorized_top_k/top_50_categorical_accuracy: 0.6591 - val_factorized_top_k/top_100_categorical_accuracy: 0.7504 - val_loss: 2232.8994 - val_regularization_loss: 0.0000e+00 - val_total_loss: 2232.8994\n",
      "Epoch 39/100\n",
      "22/22 [==============================] - 117s 5s/step - factorized_top_k/top_1_categorical_accuracy: 0.1199 - factorized_top_k/top_5_categorical_accuracy: 0.3484 - factorized_top_k/top_10_categorical_accuracy: 0.4384 - factorized_top_k/top_50_categorical_accuracy: 0.6628 - factorized_top_k/top_100_categorical_accuracy: 0.7561 - loss: 3736.6941 - regularization_loss: 0.0000e+00 - total_loss: 3736.6941 - val_factorized_top_k/top_1_categorical_accuracy: 0.1264 - val_factorized_top_k/top_5_categorical_accuracy: 0.3598 - val_factorized_top_k/top_10_categorical_accuracy: 0.4510 - val_factorized_top_k/top_50_categorical_accuracy: 0.6766 - val_factorized_top_k/top_100_categorical_accuracy: 0.7660 - val_loss: 2188.9482 - val_regularization_loss: 0.0000e+00 - val_total_loss: 2188.9482\n",
      "Epoch 40/100\n",
      "22/22 [==============================] - 117s 5s/step - factorized_top_k/top_1_categorical_accuracy: 0.1327 - factorized_top_k/top_5_categorical_accuracy: 0.3685 - factorized_top_k/top_10_categorical_accuracy: 0.4575 - factorized_top_k/top_50_categorical_accuracy: 0.6804 - factorized_top_k/top_100_categorical_accuracy: 0.7712 - loss: 3667.6217 - regularization_loss: 0.0000e+00 - total_loss: 3667.6217 - val_factorized_top_k/top_1_categorical_accuracy: 0.1350 - val_factorized_top_k/top_5_categorical_accuracy: 0.3811 - val_factorized_top_k/top_10_categorical_accuracy: 0.4709 - val_factorized_top_k/top_50_categorical_accuracy: 0.6932 - val_factorized_top_k/top_100_categorical_accuracy: 0.7789 - val_loss: 2145.3584 - val_regularization_loss: 0.0000e+00 - val_total_loss: 2145.3584\n",
      "Epoch 41/100\n",
      "22/22 [==============================] - 116s 5s/step - factorized_top_k/top_1_categorical_accuracy: 0.1424 - factorized_top_k/top_5_categorical_accuracy: 0.3867 - factorized_top_k/top_10_categorical_accuracy: 0.4767 - factorized_top_k/top_50_categorical_accuracy: 0.6972 - factorized_top_k/top_100_categorical_accuracy: 0.7836 - loss: 3599.1851 - regularization_loss: 0.0000e+00 - total_loss: 3599.1851 - val_factorized_top_k/top_1_categorical_accuracy: 0.1472 - val_factorized_top_k/top_5_categorical_accuracy: 0.3995 - val_factorized_top_k/top_10_categorical_accuracy: 0.4912 - val_factorized_top_k/top_50_categorical_accuracy: 0.7108 - val_factorized_top_k/top_100_categorical_accuracy: 0.7932 - val_loss: 2102.1077 - val_regularization_loss: 0.0000e+00 - val_total_loss: 2102.1077\n",
      "Epoch 42/100\n",
      "22/22 [==============================] - 118s 5s/step - factorized_top_k/top_1_categorical_accuracy: 0.1537 - factorized_top_k/top_5_categorical_accuracy: 0.4034 - factorized_top_k/top_10_categorical_accuracy: 0.4964 - factorized_top_k/top_50_categorical_accuracy: 0.7141 - factorized_top_k/top_100_categorical_accuracy: 0.7987 - loss: 3531.3465 - regularization_loss: 0.0000e+00 - total_loss: 3531.3465 - val_factorized_top_k/top_1_categorical_accuracy: 0.1558 - val_factorized_top_k/top_5_categorical_accuracy: 0.4181 - val_factorized_top_k/top_10_categorical_accuracy: 0.5094 - val_factorized_top_k/top_50_categorical_accuracy: 0.7247 - val_factorized_top_k/top_100_categorical_accuracy: 0.8092 - val_loss: 2059.1770 - val_regularization_loss: 0.0000e+00 - val_total_loss: 2059.1770\n",
      "Epoch 43/100\n",
      "22/22 [==============================] - 117s 5s/step - factorized_top_k/top_1_categorical_accuracy: 0.1605 - factorized_top_k/top_5_categorical_accuracy: 0.4223 - factorized_top_k/top_10_categorical_accuracy: 0.5172 - factorized_top_k/top_50_categorical_accuracy: 0.7296 - factorized_top_k/top_100_categorical_accuracy: 0.8129 - loss: 3464.0695 - regularization_loss: 0.0000e+00 - total_loss: 3464.0695 - val_factorized_top_k/top_1_categorical_accuracy: 0.1662 - val_factorized_top_k/top_5_categorical_accuracy: 0.4360 - val_factorized_top_k/top_10_categorical_accuracy: 0.5318 - val_factorized_top_k/top_50_categorical_accuracy: 0.7404 - val_factorized_top_k/top_100_categorical_accuracy: 0.8217 - val_loss: 2016.5555 - val_regularization_loss: 0.0000e+00 - val_total_loss: 2016.5555\n",
      "Epoch 44/100\n",
      "22/22 [==============================] - 117s 5s/step - factorized_top_k/top_1_categorical_accuracy: 0.1733 - factorized_top_k/top_5_categorical_accuracy: 0.4401 - factorized_top_k/top_10_categorical_accuracy: 0.5377 - factorized_top_k/top_50_categorical_accuracy: 0.7448 - factorized_top_k/top_100_categorical_accuracy: 0.8269 - loss: 3397.3249 - regularization_loss: 0.0000e+00 - total_loss: 3397.3249 - val_factorized_top_k/top_1_categorical_accuracy: 0.1747 - val_factorized_top_k/top_5_categorical_accuracy: 0.4524 - val_factorized_top_k/top_10_categorical_accuracy: 0.5500 - val_factorized_top_k/top_50_categorical_accuracy: 0.7563 - val_factorized_top_k/top_100_categorical_accuracy: 0.8361 - val_loss: 1974.2410 - val_regularization_loss: 0.0000e+00 - val_total_loss: 1974.2410\n",
      "Epoch 45/100\n",
      "22/22 [==============================] - 120s 5s/step - factorized_top_k/top_1_categorical_accuracy: 0.1838 - factorized_top_k/top_5_categorical_accuracy: 0.4595 - factorized_top_k/top_10_categorical_accuracy: 0.5556 - factorized_top_k/top_50_categorical_accuracy: 0.7608 - factorized_top_k/top_100_categorical_accuracy: 0.8401 - loss: 3331.0936 - regularization_loss: 0.0000e+00 - total_loss: 3331.0936 - val_factorized_top_k/top_1_categorical_accuracy: 0.1883 - val_factorized_top_k/top_5_categorical_accuracy: 0.4716 - val_factorized_top_k/top_10_categorical_accuracy: 0.5700 - val_factorized_top_k/top_50_categorical_accuracy: 0.7719 - val_factorized_top_k/top_100_categorical_accuracy: 0.8479 - val_loss: 1932.2429 - val_regularization_loss: 0.0000e+00 - val_total_loss: 1932.2429\n",
      "Epoch 46/100\n",
      "22/22 [==============================] - 118s 5s/step - factorized_top_k/top_1_categorical_accuracy: 0.1973 - factorized_top_k/top_5_categorical_accuracy: 0.4775 - factorized_top_k/top_10_categorical_accuracy: 0.5728 - factorized_top_k/top_50_categorical_accuracy: 0.7774 - factorized_top_k/top_100_categorical_accuracy: 0.8518 - loss: 3265.3701 - regularization_loss: 0.0000e+00 - total_loss: 3265.3701 - val_factorized_top_k/top_1_categorical_accuracy: 0.1986 - val_factorized_top_k/top_5_categorical_accuracy: 0.4895 - val_factorized_top_k/top_10_categorical_accuracy: 0.5858 - val_factorized_top_k/top_50_categorical_accuracy: 0.7876 - val_factorized_top_k/top_100_categorical_accuracy: 0.8597 - val_loss: 1890.5817 - val_regularization_loss: 0.0000e+00 - val_total_loss: 1890.5817\n",
      "Epoch 47/100\n",
      "22/22 [==============================] - 117s 5s/step - factorized_top_k/top_1_categorical_accuracy: 0.2018 - factorized_top_k/top_5_categorical_accuracy: 0.4944 - factorized_top_k/top_10_categorical_accuracy: 0.5902 - factorized_top_k/top_50_categorical_accuracy: 0.7932 - factorized_top_k/top_100_categorical_accuracy: 0.8641 - loss: 3200.1624 - regularization_loss: 0.0000e+00 - total_loss: 3200.1624 - val_factorized_top_k/top_1_categorical_accuracy: 0.2093 - val_factorized_top_k/top_5_categorical_accuracy: 0.5053 - val_factorized_top_k/top_10_categorical_accuracy: 0.6039 - val_factorized_top_k/top_50_categorical_accuracy: 0.8025 - val_factorized_top_k/top_100_categorical_accuracy: 0.8717 - val_loss: 1849.2883 - val_regularization_loss: 0.0000e+00 - val_total_loss: 1849.2883\n",
      "Epoch 48/100\n",
      "22/22 [==============================] - 118s 5s/step - factorized_top_k/top_1_categorical_accuracy: 0.2121 - factorized_top_k/top_5_categorical_accuracy: 0.5114 - factorized_top_k/top_10_categorical_accuracy: 0.6081 - factorized_top_k/top_50_categorical_accuracy: 0.8056 - factorized_top_k/top_100_categorical_accuracy: 0.8758 - loss: 3135.4917 - regularization_loss: 0.0000e+00 - total_loss: 3135.4917 - val_factorized_top_k/top_1_categorical_accuracy: 0.2232 - val_factorized_top_k/top_5_categorical_accuracy: 0.5228 - val_factorized_top_k/top_10_categorical_accuracy: 0.6192 - val_factorized_top_k/top_50_categorical_accuracy: 0.8159 - val_factorized_top_k/top_100_categorical_accuracy: 0.8839 - val_loss: 1808.4015 - val_regularization_loss: 0.0000e+00 - val_total_loss: 1808.4015\n",
      "Epoch 49/100\n",
      "22/22 [==============================] - 116s 5s/step - factorized_top_k/top_1_categorical_accuracy: 0.2225 - factorized_top_k/top_5_categorical_accuracy: 0.5294 - factorized_top_k/top_10_categorical_accuracy: 0.6232 - factorized_top_k/top_50_categorical_accuracy: 0.8199 - factorized_top_k/top_100_categorical_accuracy: 0.8872 - loss: 3071.3892 - regularization_loss: 0.0000e+00 - total_loss: 3071.3892 - val_factorized_top_k/top_1_categorical_accuracy: 0.2299 - val_factorized_top_k/top_5_categorical_accuracy: 0.5394 - val_factorized_top_k/top_10_categorical_accuracy: 0.6373 - val_factorized_top_k/top_50_categorical_accuracy: 0.8290 - val_factorized_top_k/top_100_categorical_accuracy: 0.8947 - val_loss: 1767.9639 - val_regularization_loss: 0.0000e+00 - val_total_loss: 1767.9639\n",
      "Epoch 50/100\n",
      "22/22 [==============================] - 120s 5s/step - factorized_top_k/top_1_categorical_accuracy: 0.2349 - factorized_top_k/top_5_categorical_accuracy: 0.5448 - factorized_top_k/top_10_categorical_accuracy: 0.6392 - factorized_top_k/top_50_categorical_accuracy: 0.8325 - factorized_top_k/top_100_categorical_accuracy: 0.8970 - loss: 3007.8941 - regularization_loss: 0.0000e+00 - total_loss: 3007.8941 - val_factorized_top_k/top_1_categorical_accuracy: 0.2392 - val_factorized_top_k/top_5_categorical_accuracy: 0.5537 - val_factorized_top_k/top_10_categorical_accuracy: 0.6534 - val_factorized_top_k/top_50_categorical_accuracy: 0.8433 - val_factorized_top_k/top_100_categorical_accuracy: 0.9045 - val_loss: 1728.0190 - val_regularization_loss: 0.0000e+00 - val_total_loss: 1728.0190\n",
      "Epoch 51/100\n",
      "22/22 [==============================] - 118s 5s/step - factorized_top_k/top_1_categorical_accuracy: 0.2417 - factorized_top_k/top_5_categorical_accuracy: 0.5598 - factorized_top_k/top_10_categorical_accuracy: 0.6550 - factorized_top_k/top_50_categorical_accuracy: 0.8450 - factorized_top_k/top_100_categorical_accuracy: 0.9058 - loss: 2945.0490 - regularization_loss: 0.0000e+00 - total_loss: 2945.0490 - val_factorized_top_k/top_1_categorical_accuracy: 0.2476 - val_factorized_top_k/top_5_categorical_accuracy: 0.5701 - val_factorized_top_k/top_10_categorical_accuracy: 0.6665 - val_factorized_top_k/top_50_categorical_accuracy: 0.8532 - val_factorized_top_k/top_100_categorical_accuracy: 0.9127 - val_loss: 1688.6060 - val_regularization_loss: 0.0000e+00 - val_total_loss: 1688.6060\n",
      "Epoch 52/100\n",
      "22/22 [==============================] - 161s 8s/step - factorized_top_k/top_1_categorical_accuracy: 0.2527 - factorized_top_k/top_5_categorical_accuracy: 0.5747 - factorized_top_k/top_10_categorical_accuracy: 0.6688 - factorized_top_k/top_50_categorical_accuracy: 0.8556 - factorized_top_k/top_100_categorical_accuracy: 0.9148 - loss: 2882.8978 - regularization_loss: 0.0000e+00 - total_loss: 2882.8978 - val_factorized_top_k/top_1_categorical_accuracy: 0.2586 - val_factorized_top_k/top_5_categorical_accuracy: 0.5872 - val_factorized_top_k/top_10_categorical_accuracy: 0.6818 - val_factorized_top_k/top_50_categorical_accuracy: 0.8639 - val_factorized_top_k/top_100_categorical_accuracy: 0.9217 - val_loss: 1649.7571 - val_regularization_loss: 0.0000e+00 - val_total_loss: 1649.7571\n",
      "Epoch 53/100\n",
      "22/22 [==============================] - 123s 6s/step - factorized_top_k/top_1_categorical_accuracy: 0.2621 - factorized_top_k/top_5_categorical_accuracy: 0.5903 - factorized_top_k/top_10_categorical_accuracy: 0.6827 - factorized_top_k/top_50_categorical_accuracy: 0.8650 - factorized_top_k/top_100_categorical_accuracy: 0.9228 - loss: 2821.4820 - regularization_loss: 0.0000e+00 - total_loss: 2821.4820 - val_factorized_top_k/top_1_categorical_accuracy: 0.2635 - val_factorized_top_k/top_5_categorical_accuracy: 0.5987 - val_factorized_top_k/top_10_categorical_accuracy: 0.6953 - val_factorized_top_k/top_50_categorical_accuracy: 0.8750 - val_factorized_top_k/top_100_categorical_accuracy: 0.9287 - val_loss: 1611.4976 - val_regularization_loss: 0.0000e+00 - val_total_loss: 1611.4976\n",
      "Epoch 54/100\n",
      "22/22 [==============================] - 120s 6s/step - factorized_top_k/top_1_categorical_accuracy: 0.2706 - factorized_top_k/top_5_categorical_accuracy: 0.6030 - factorized_top_k/top_10_categorical_accuracy: 0.6970 - factorized_top_k/top_50_categorical_accuracy: 0.8748 - factorized_top_k/top_100_categorical_accuracy: 0.9295 - loss: 2760.8400 - regularization_loss: 0.0000e+00 - total_loss: 2760.8400 - val_factorized_top_k/top_1_categorical_accuracy: 0.2784 - val_factorized_top_k/top_5_categorical_accuracy: 0.6146 - val_factorized_top_k/top_10_categorical_accuracy: 0.7068 - val_factorized_top_k/top_50_categorical_accuracy: 0.8850 - val_factorized_top_k/top_100_categorical_accuracy: 0.9378 - val_loss: 1573.8464 - val_regularization_loss: 0.0000e+00 - val_total_loss: 1573.8464\n",
      "Epoch 55/100\n",
      "22/22 [==============================] - 116s 5s/step - factorized_top_k/top_1_categorical_accuracy: 0.2794 - factorized_top_k/top_5_categorical_accuracy: 0.6168 - factorized_top_k/top_10_categorical_accuracy: 0.7106 - factorized_top_k/top_50_categorical_accuracy: 0.8851 - factorized_top_k/top_100_categorical_accuracy: 0.9366 - loss: 2701.0064 - regularization_loss: 0.0000e+00 - total_loss: 2701.0064 - val_factorized_top_k/top_1_categorical_accuracy: 0.2845 - val_factorized_top_k/top_5_categorical_accuracy: 0.6283 - val_factorized_top_k/top_10_categorical_accuracy: 0.7192 - val_factorized_top_k/top_50_categorical_accuracy: 0.8954 - val_factorized_top_k/top_100_categorical_accuracy: 0.9437 - val_loss: 1536.8191 - val_regularization_loss: 0.0000e+00 - val_total_loss: 1536.8191\n",
      "Epoch 56/100\n",
      "22/22 [==============================] - 119s 6s/step - factorized_top_k/top_1_categorical_accuracy: 0.2865 - factorized_top_k/top_5_categorical_accuracy: 0.6310 - factorized_top_k/top_10_categorical_accuracy: 0.7212 - factorized_top_k/top_50_categorical_accuracy: 0.8939 - factorized_top_k/top_100_categorical_accuracy: 0.9425 - loss: 2642.0120 - regularization_loss: 0.0000e+00 - total_loss: 2642.0120 - val_factorized_top_k/top_1_categorical_accuracy: 0.2887 - val_factorized_top_k/top_5_categorical_accuracy: 0.6412 - val_factorized_top_k/top_10_categorical_accuracy: 0.7310 - val_factorized_top_k/top_50_categorical_accuracy: 0.9031 - val_factorized_top_k/top_100_categorical_accuracy: 0.9483 - val_loss: 1500.4294 - val_regularization_loss: 0.0000e+00 - val_total_loss: 1500.4294\n",
      "Epoch 57/100\n",
      "22/22 [==============================] - 118s 5s/step - factorized_top_k/top_1_categorical_accuracy: 0.2931 - factorized_top_k/top_5_categorical_accuracy: 0.6433 - factorized_top_k/top_10_categorical_accuracy: 0.7326 - factorized_top_k/top_50_categorical_accuracy: 0.9027 - factorized_top_k/top_100_categorical_accuracy: 0.9479 - loss: 2583.8838 - regularization_loss: 0.0000e+00 - total_loss: 2583.8838 - val_factorized_top_k/top_1_categorical_accuracy: 0.2979 - val_factorized_top_k/top_5_categorical_accuracy: 0.6545 - val_factorized_top_k/top_10_categorical_accuracy: 0.7426 - val_factorized_top_k/top_50_categorical_accuracy: 0.9098 - val_factorized_top_k/top_100_categorical_accuracy: 0.9541 - val_loss: 1464.6901 - val_regularization_loss: 0.0000e+00 - val_total_loss: 1464.6901\n",
      "Epoch 58/100\n",
      "22/22 [==============================] - 120s 6s/step - factorized_top_k/top_1_categorical_accuracy: 0.3047 - factorized_top_k/top_5_categorical_accuracy: 0.6554 - factorized_top_k/top_10_categorical_accuracy: 0.7439 - factorized_top_k/top_50_categorical_accuracy: 0.9089 - factorized_top_k/top_100_categorical_accuracy: 0.9523 - loss: 2526.6457 - regularization_loss: 0.0000e+00 - total_loss: 2526.6457 - val_factorized_top_k/top_1_categorical_accuracy: 0.3088 - val_factorized_top_k/top_5_categorical_accuracy: 0.6663 - val_factorized_top_k/top_10_categorical_accuracy: 0.7541 - val_factorized_top_k/top_50_categorical_accuracy: 0.9168 - val_factorized_top_k/top_100_categorical_accuracy: 0.9583 - val_loss: 1429.6134 - val_regularization_loss: 0.0000e+00 - val_total_loss: 1429.6134\n",
      "Epoch 59/100\n",
      "22/22 [==============================] - 120s 6s/step - factorized_top_k/top_1_categorical_accuracy: 0.3096 - factorized_top_k/top_5_categorical_accuracy: 0.6676 - factorized_top_k/top_10_categorical_accuracy: 0.7560 - factorized_top_k/top_50_categorical_accuracy: 0.9153 - factorized_top_k/top_100_categorical_accuracy: 0.9574 - loss: 2470.3179 - regularization_loss: 0.0000e+00 - total_loss: 2470.3179 - val_factorized_top_k/top_1_categorical_accuracy: 0.3194 - val_factorized_top_k/top_5_categorical_accuracy: 0.6772 - val_factorized_top_k/top_10_categorical_accuracy: 0.7649 - val_factorized_top_k/top_50_categorical_accuracy: 0.9242 - val_factorized_top_k/top_100_categorical_accuracy: 0.9625 - val_loss: 1395.2086 - val_regularization_loss: 0.0000e+00 - val_total_loss: 1395.2086\n",
      "Epoch 60/100\n",
      "22/22 [==============================] - 125s 6s/step - factorized_top_k/top_1_categorical_accuracy: 0.3162 - factorized_top_k/top_5_categorical_accuracy: 0.6782 - factorized_top_k/top_10_categorical_accuracy: 0.7660 - factorized_top_k/top_50_categorical_accuracy: 0.9219 - factorized_top_k/top_100_categorical_accuracy: 0.9614 - loss: 2414.9174 - regularization_loss: 0.0000e+00 - total_loss: 2414.9174 - val_factorized_top_k/top_1_categorical_accuracy: 0.3254 - val_factorized_top_k/top_5_categorical_accuracy: 0.6890 - val_factorized_top_k/top_10_categorical_accuracy: 0.7766 - val_factorized_top_k/top_50_categorical_accuracy: 0.9301 - val_factorized_top_k/top_100_categorical_accuracy: 0.9653 - val_loss: 1361.4823 - val_regularization_loss: 0.0000e+00 - val_total_loss: 1361.4823\n",
      "Epoch 61/100\n",
      "22/22 [==============================] - 119s 6s/step - factorized_top_k/top_1_categorical_accuracy: 0.3236 - factorized_top_k/top_5_categorical_accuracy: 0.6897 - factorized_top_k/top_10_categorical_accuracy: 0.7774 - factorized_top_k/top_50_categorical_accuracy: 0.9270 - factorized_top_k/top_100_categorical_accuracy: 0.9644 - loss: 2360.4578 - regularization_loss: 0.0000e+00 - total_loss: 2360.4578 - val_factorized_top_k/top_1_categorical_accuracy: 0.3331 - val_factorized_top_k/top_5_categorical_accuracy: 0.6994 - val_factorized_top_k/top_10_categorical_accuracy: 0.7889 - val_factorized_top_k/top_50_categorical_accuracy: 0.9361 - val_factorized_top_k/top_100_categorical_accuracy: 0.9686 - val_loss: 1328.4387 - val_regularization_loss: 0.0000e+00 - val_total_loss: 1328.4387\n",
      "Epoch 62/100\n",
      "22/22 [==============================] - 124s 6s/step - factorized_top_k/top_1_categorical_accuracy: 0.3354 - factorized_top_k/top_5_categorical_accuracy: 0.7016 - factorized_top_k/top_10_categorical_accuracy: 0.7880 - factorized_top_k/top_50_categorical_accuracy: 0.9325 - factorized_top_k/top_100_categorical_accuracy: 0.9679 - loss: 2306.9487 - regularization_loss: 0.0000e+00 - total_loss: 2306.9487 - val_factorized_top_k/top_1_categorical_accuracy: 0.3384 - val_factorized_top_k/top_5_categorical_accuracy: 0.7121 - val_factorized_top_k/top_10_categorical_accuracy: 0.7988 - val_factorized_top_k/top_50_categorical_accuracy: 0.9404 - val_factorized_top_k/top_100_categorical_accuracy: 0.9710 - val_loss: 1296.0785 - val_regularization_loss: 0.0000e+00 - val_total_loss: 1296.0785\n",
      "Epoch 63/100\n",
      "22/22 [==============================] - 120s 6s/step - factorized_top_k/top_1_categorical_accuracy: 0.3422 - factorized_top_k/top_5_categorical_accuracy: 0.7122 - factorized_top_k/top_10_categorical_accuracy: 0.7977 - factorized_top_k/top_50_categorical_accuracy: 0.9379 - factorized_top_k/top_100_categorical_accuracy: 0.9710 - loss: 2254.3968 - regularization_loss: 0.0000e+00 - total_loss: 2254.3968 - val_factorized_top_k/top_1_categorical_accuracy: 0.3482 - val_factorized_top_k/top_5_categorical_accuracy: 0.7216 - val_factorized_top_k/top_10_categorical_accuracy: 0.8076 - val_factorized_top_k/top_50_categorical_accuracy: 0.9445 - val_factorized_top_k/top_100_categorical_accuracy: 0.9738 - val_loss: 1264.4001 - val_regularization_loss: 0.0000e+00 - val_total_loss: 1264.4001\n",
      "Epoch 64/100\n",
      "22/22 [==============================] - 121s 6s/step - factorized_top_k/top_1_categorical_accuracy: 0.3464 - factorized_top_k/top_5_categorical_accuracy: 0.7231 - factorized_top_k/top_10_categorical_accuracy: 0.8069 - factorized_top_k/top_50_categorical_accuracy: 0.9430 - factorized_top_k/top_100_categorical_accuracy: 0.9741 - loss: 2202.8054 - regularization_loss: 0.0000e+00 - total_loss: 2202.8054 - val_factorized_top_k/top_1_categorical_accuracy: 0.3546 - val_factorized_top_k/top_5_categorical_accuracy: 0.7327 - val_factorized_top_k/top_10_categorical_accuracy: 0.8166 - val_factorized_top_k/top_50_categorical_accuracy: 0.9488 - val_factorized_top_k/top_100_categorical_accuracy: 0.9764 - val_loss: 1233.4004 - val_regularization_loss: 0.0000e+00 - val_total_loss: 1233.4004\n",
      "Epoch 65/100\n",
      "22/22 [==============================] - 119s 5s/step - factorized_top_k/top_1_categorical_accuracy: 0.3520 - factorized_top_k/top_5_categorical_accuracy: 0.7338 - factorized_top_k/top_10_categorical_accuracy: 0.8160 - factorized_top_k/top_50_categorical_accuracy: 0.9473 - factorized_top_k/top_100_categorical_accuracy: 0.9763 - loss: 2152.1757 - regularization_loss: 0.0000e+00 - total_loss: 2152.1757 - val_factorized_top_k/top_1_categorical_accuracy: 0.3676 - val_factorized_top_k/top_5_categorical_accuracy: 0.7463 - val_factorized_top_k/top_10_categorical_accuracy: 0.8264 - val_factorized_top_k/top_50_categorical_accuracy: 0.9528 - val_factorized_top_k/top_100_categorical_accuracy: 0.9789 - val_loss: 1203.0742 - val_regularization_loss: 0.0000e+00 - val_total_loss: 1203.0742\n",
      "Epoch 66/100\n",
      "22/22 [==============================] - 118s 5s/step - factorized_top_k/top_1_categorical_accuracy: 0.3628 - factorized_top_k/top_5_categorical_accuracy: 0.7440 - factorized_top_k/top_10_categorical_accuracy: 0.8244 - factorized_top_k/top_50_categorical_accuracy: 0.9515 - factorized_top_k/top_100_categorical_accuracy: 0.9785 - loss: 2102.5072 - regularization_loss: 0.0000e+00 - total_loss: 2102.5072 - val_factorized_top_k/top_1_categorical_accuracy: 0.3707 - val_factorized_top_k/top_5_categorical_accuracy: 0.7561 - val_factorized_top_k/top_10_categorical_accuracy: 0.8333 - val_factorized_top_k/top_50_categorical_accuracy: 0.9573 - val_factorized_top_k/top_100_categorical_accuracy: 0.9810 - val_loss: 1173.4161 - val_regularization_loss: 0.0000e+00 - val_total_loss: 1173.4161\n",
      "Epoch 67/100\n",
      "22/22 [==============================] - 115s 5s/step - factorized_top_k/top_1_categorical_accuracy: 0.3706 - factorized_top_k/top_5_categorical_accuracy: 0.7557 - factorized_top_k/top_10_categorical_accuracy: 0.8326 - factorized_top_k/top_50_categorical_accuracy: 0.9555 - factorized_top_k/top_100_categorical_accuracy: 0.9807 - loss: 2053.7977 - regularization_loss: 0.0000e+00 - total_loss: 2053.7977 - val_factorized_top_k/top_1_categorical_accuracy: 0.3749 - val_factorized_top_k/top_5_categorical_accuracy: 0.7653 - val_factorized_top_k/top_10_categorical_accuracy: 0.8421 - val_factorized_top_k/top_50_categorical_accuracy: 0.9604 - val_factorized_top_k/top_100_categorical_accuracy: 0.9829 - val_loss: 1144.4191 - val_regularization_loss: 0.0000e+00 - val_total_loss: 1144.4191\n",
      "Epoch 68/100\n",
      "22/22 [==============================] - 116s 5s/step - factorized_top_k/top_1_categorical_accuracy: 0.3765 - factorized_top_k/top_5_categorical_accuracy: 0.7647 - factorized_top_k/top_10_categorical_accuracy: 0.8408 - factorized_top_k/top_50_categorical_accuracy: 0.9594 - factorized_top_k/top_100_categorical_accuracy: 0.9822 - loss: 2006.0443 - regularization_loss: 0.0000e+00 - total_loss: 2006.0443 - val_factorized_top_k/top_1_categorical_accuracy: 0.3807 - val_factorized_top_k/top_5_categorical_accuracy: 0.7739 - val_factorized_top_k/top_10_categorical_accuracy: 0.8500 - val_factorized_top_k/top_50_categorical_accuracy: 0.9635 - val_factorized_top_k/top_100_categorical_accuracy: 0.9840 - val_loss: 1116.0763 - val_regularization_loss: 0.0000e+00 - val_total_loss: 1116.0763\n",
      "Epoch 69/100\n",
      "22/22 [==============================] - 120s 5s/step - factorized_top_k/top_1_categorical_accuracy: 0.3803 - factorized_top_k/top_5_categorical_accuracy: 0.7718 - factorized_top_k/top_10_categorical_accuracy: 0.8484 - factorized_top_k/top_50_categorical_accuracy: 0.9627 - factorized_top_k/top_100_categorical_accuracy: 0.9838 - loss: 1959.2430 - regularization_loss: 0.0000e+00 - total_loss: 1959.2430 - val_factorized_top_k/top_1_categorical_accuracy: 0.3913 - val_factorized_top_k/top_5_categorical_accuracy: 0.7835 - val_factorized_top_k/top_10_categorical_accuracy: 0.8574 - val_factorized_top_k/top_50_categorical_accuracy: 0.9675 - val_factorized_top_k/top_100_categorical_accuracy: 0.9856 - val_loss: 1088.3811 - val_regularization_loss: 0.0000e+00 - val_total_loss: 1088.3811\n",
      "Epoch 70/100\n",
      "22/22 [==============================] - 118s 5s/step - factorized_top_k/top_1_categorical_accuracy: 0.3933 - factorized_top_k/top_5_categorical_accuracy: 0.7810 - factorized_top_k/top_10_categorical_accuracy: 0.8558 - factorized_top_k/top_50_categorical_accuracy: 0.9659 - factorized_top_k/top_100_categorical_accuracy: 0.9853 - loss: 1913.3893 - regularization_loss: 0.0000e+00 - total_loss: 1913.3893 - val_factorized_top_k/top_1_categorical_accuracy: 0.3913 - val_factorized_top_k/top_5_categorical_accuracy: 0.7916 - val_factorized_top_k/top_10_categorical_accuracy: 0.8661 - val_factorized_top_k/top_50_categorical_accuracy: 0.9698 - val_factorized_top_k/top_100_categorical_accuracy: 0.9865 - val_loss: 1061.3264 - val_regularization_loss: 0.0000e+00 - val_total_loss: 1061.3264\n",
      "Epoch 71/100\n",
      "22/22 [==============================] - 115s 5s/step - factorized_top_k/top_1_categorical_accuracy: 0.3942 - factorized_top_k/top_5_categorical_accuracy: 0.7897 - factorized_top_k/top_10_categorical_accuracy: 0.8640 - factorized_top_k/top_50_categorical_accuracy: 0.9691 - factorized_top_k/top_100_categorical_accuracy: 0.9866 - loss: 1868.4774 - regularization_loss: 0.0000e+00 - total_loss: 1868.4774 - val_factorized_top_k/top_1_categorical_accuracy: 0.3959 - val_factorized_top_k/top_5_categorical_accuracy: 0.7976 - val_factorized_top_k/top_10_categorical_accuracy: 0.8730 - val_factorized_top_k/top_50_categorical_accuracy: 0.9727 - val_factorized_top_k/top_100_categorical_accuracy: 0.9873 - val_loss: 1034.9047 - val_regularization_loss: 0.0000e+00 - val_total_loss: 1034.9047\n",
      "Epoch 72/100\n",
      "22/22 [==============================] - 118s 5s/step - factorized_top_k/top_1_categorical_accuracy: 0.4020 - factorized_top_k/top_5_categorical_accuracy: 0.7979 - factorized_top_k/top_10_categorical_accuracy: 0.8706 - factorized_top_k/top_50_categorical_accuracy: 0.9718 - factorized_top_k/top_100_categorical_accuracy: 0.9878 - loss: 1824.5007 - regularization_loss: 0.0000e+00 - total_loss: 1824.5007 - val_factorized_top_k/top_1_categorical_accuracy: 0.4069 - val_factorized_top_k/top_5_categorical_accuracy: 0.8082 - val_factorized_top_k/top_10_categorical_accuracy: 0.8790 - val_factorized_top_k/top_50_categorical_accuracy: 0.9748 - val_factorized_top_k/top_100_categorical_accuracy: 0.9886 - val_loss: 1009.1089 - val_regularization_loss: 0.0000e+00 - val_total_loss: 1009.1089\n",
      "Epoch 73/100\n",
      "22/22 [==============================] - 120s 5s/step - factorized_top_k/top_1_categorical_accuracy: 0.4026 - factorized_top_k/top_5_categorical_accuracy: 0.8063 - factorized_top_k/top_10_categorical_accuracy: 0.8775 - factorized_top_k/top_50_categorical_accuracy: 0.9741 - factorized_top_k/top_100_categorical_accuracy: 0.9890 - loss: 1781.4513 - regularization_loss: 0.0000e+00 - total_loss: 1781.4513 - val_factorized_top_k/top_1_categorical_accuracy: 0.4125 - val_factorized_top_k/top_5_categorical_accuracy: 0.8170 - val_factorized_top_k/top_10_categorical_accuracy: 0.8862 - val_factorized_top_k/top_50_categorical_accuracy: 0.9768 - val_factorized_top_k/top_100_categorical_accuracy: 0.9895 - val_loss: 983.9311 - val_regularization_loss: 0.0000e+00 - val_total_loss: 983.9311\n",
      "Epoch 74/100\n",
      "22/22 [==============================] - 120s 5s/step - factorized_top_k/top_1_categorical_accuracy: 0.4151 - factorized_top_k/top_5_categorical_accuracy: 0.8147 - factorized_top_k/top_10_categorical_accuracy: 0.8848 - factorized_top_k/top_50_categorical_accuracy: 0.9759 - factorized_top_k/top_100_categorical_accuracy: 0.9899 - loss: 1739.3205 - regularization_loss: 0.0000e+00 - total_loss: 1739.3205 - val_factorized_top_k/top_1_categorical_accuracy: 0.4175 - val_factorized_top_k/top_5_categorical_accuracy: 0.8253 - val_factorized_top_k/top_10_categorical_accuracy: 0.8929 - val_factorized_top_k/top_50_categorical_accuracy: 0.9786 - val_factorized_top_k/top_100_categorical_accuracy: 0.9906 - val_loss: 959.3632 - val_regularization_loss: 0.0000e+00 - val_total_loss: 959.3632\n",
      "Epoch 75/100\n",
      "22/22 [==============================] - 117s 5s/step - factorized_top_k/top_1_categorical_accuracy: 0.4183 - factorized_top_k/top_5_categorical_accuracy: 0.8229 - factorized_top_k/top_10_categorical_accuracy: 0.8904 - factorized_top_k/top_50_categorical_accuracy: 0.9780 - factorized_top_k/top_100_categorical_accuracy: 0.9910 - loss: 1698.0984 - regularization_loss: 0.0000e+00 - total_loss: 1698.0984 - val_factorized_top_k/top_1_categorical_accuracy: 0.4273 - val_factorized_top_k/top_5_categorical_accuracy: 0.8322 - val_factorized_top_k/top_10_categorical_accuracy: 0.8997 - val_factorized_top_k/top_50_categorical_accuracy: 0.9802 - val_factorized_top_k/top_100_categorical_accuracy: 0.9915 - val_loss: 935.3963 - val_regularization_loss: 0.0000e+00 - val_total_loss: 935.3963\n",
      "Epoch 76/100\n",
      "22/22 [==============================] - 119s 5s/step - factorized_top_k/top_1_categorical_accuracy: 0.4253 - factorized_top_k/top_5_categorical_accuracy: 0.8312 - factorized_top_k/top_10_categorical_accuracy: 0.8966 - factorized_top_k/top_50_categorical_accuracy: 0.9796 - factorized_top_k/top_100_categorical_accuracy: 0.9918 - loss: 1657.7740 - regularization_loss: 0.0000e+00 - total_loss: 1657.7740 - val_factorized_top_k/top_1_categorical_accuracy: 0.4319 - val_factorized_top_k/top_5_categorical_accuracy: 0.8384 - val_factorized_top_k/top_10_categorical_accuracy: 0.9066 - val_factorized_top_k/top_50_categorical_accuracy: 0.9812 - val_factorized_top_k/top_100_categorical_accuracy: 0.9928 - val_loss: 912.0215 - val_regularization_loss: 0.0000e+00 - val_total_loss: 912.0215\n",
      "Epoch 77/100\n",
      "22/22 [==============================] - 122s 6s/step - factorized_top_k/top_1_categorical_accuracy: 0.4314 - factorized_top_k/top_5_categorical_accuracy: 0.8375 - factorized_top_k/top_10_categorical_accuracy: 0.9038 - factorized_top_k/top_50_categorical_accuracy: 0.9813 - factorized_top_k/top_100_categorical_accuracy: 0.9928 - loss: 1618.3357 - regularization_loss: 0.0000e+00 - total_loss: 1618.3357 - val_factorized_top_k/top_1_categorical_accuracy: 0.4388 - val_factorized_top_k/top_5_categorical_accuracy: 0.8449 - val_factorized_top_k/top_10_categorical_accuracy: 0.9136 - val_factorized_top_k/top_50_categorical_accuracy: 0.9832 - val_factorized_top_k/top_100_categorical_accuracy: 0.9934 - val_loss: 889.2299 - val_regularization_loss: 0.0000e+00 - val_total_loss: 889.2299\n",
      "Epoch 78/100\n",
      "22/22 [==============================] - 120s 6s/step - factorized_top_k/top_1_categorical_accuracy: 0.4356 - factorized_top_k/top_5_categorical_accuracy: 0.8442 - factorized_top_k/top_10_categorical_accuracy: 0.9089 - factorized_top_k/top_50_categorical_accuracy: 0.9830 - factorized_top_k/top_100_categorical_accuracy: 0.9937 - loss: 1579.7708 - regularization_loss: 0.0000e+00 - total_loss: 1579.7708 - val_factorized_top_k/top_1_categorical_accuracy: 0.4364 - val_factorized_top_k/top_5_categorical_accuracy: 0.8540 - val_factorized_top_k/top_10_categorical_accuracy: 0.9170 - val_factorized_top_k/top_50_categorical_accuracy: 0.9845 - val_factorized_top_k/top_100_categorical_accuracy: 0.9937 - val_loss: 867.0107 - val_regularization_loss: 0.0000e+00 - val_total_loss: 867.0107\n",
      "Epoch 79/100\n",
      "22/22 [==============================] - 116s 5s/step - factorized_top_k/top_1_categorical_accuracy: 0.4400 - factorized_top_k/top_5_categorical_accuracy: 0.8514 - factorized_top_k/top_10_categorical_accuracy: 0.9149 - factorized_top_k/top_50_categorical_accuracy: 0.9845 - factorized_top_k/top_100_categorical_accuracy: 0.9942 - loss: 1542.0661 - regularization_loss: 0.0000e+00 - total_loss: 1542.0661 - val_factorized_top_k/top_1_categorical_accuracy: 0.4505 - val_factorized_top_k/top_5_categorical_accuracy: 0.8607 - val_factorized_top_k/top_10_categorical_accuracy: 0.9218 - val_factorized_top_k/top_50_categorical_accuracy: 0.9856 - val_factorized_top_k/top_100_categorical_accuracy: 0.9943 - val_loss: 845.3542 - val_regularization_loss: 0.0000e+00 - val_total_loss: 845.3542\n",
      "Epoch 80/100\n",
      "22/22 [==============================] - 120s 5s/step - factorized_top_k/top_1_categorical_accuracy: 0.4437 - factorized_top_k/top_5_categorical_accuracy: 0.8575 - factorized_top_k/top_10_categorical_accuracy: 0.9206 - factorized_top_k/top_50_categorical_accuracy: 0.9859 - factorized_top_k/top_100_categorical_accuracy: 0.9948 - loss: 1505.2078 - regularization_loss: 0.0000e+00 - total_loss: 1505.2078 - val_factorized_top_k/top_1_categorical_accuracy: 0.4490 - val_factorized_top_k/top_5_categorical_accuracy: 0.8677 - val_factorized_top_k/top_10_categorical_accuracy: 0.9263 - val_factorized_top_k/top_50_categorical_accuracy: 0.9870 - val_factorized_top_k/top_100_categorical_accuracy: 0.9950 - val_loss: 824.2499 - val_regularization_loss: 0.0000e+00 - val_total_loss: 824.2499\n",
      "Epoch 81/100\n",
      "22/22 [==============================] - 124s 6s/step - factorized_top_k/top_1_categorical_accuracy: 0.4536 - factorized_top_k/top_5_categorical_accuracy: 0.8659 - factorized_top_k/top_10_categorical_accuracy: 0.9245 - factorized_top_k/top_50_categorical_accuracy: 0.9874 - factorized_top_k/top_100_categorical_accuracy: 0.9951 - loss: 1469.1817 - regularization_loss: 0.0000e+00 - total_loss: 1469.1817 - val_factorized_top_k/top_1_categorical_accuracy: 0.4605 - val_factorized_top_k/top_5_categorical_accuracy: 0.8734 - val_factorized_top_k/top_10_categorical_accuracy: 0.9302 - val_factorized_top_k/top_50_categorical_accuracy: 0.9886 - val_factorized_top_k/top_100_categorical_accuracy: 0.9954 - val_loss: 803.6872 - val_regularization_loss: 0.0000e+00 - val_total_loss: 803.6872\n",
      "Epoch 82/100\n",
      "22/22 [==============================] - 116s 5s/step - factorized_top_k/top_1_categorical_accuracy: 0.4541 - factorized_top_k/top_5_categorical_accuracy: 0.8719 - factorized_top_k/top_10_categorical_accuracy: 0.9292 - factorized_top_k/top_50_categorical_accuracy: 0.9885 - factorized_top_k/top_100_categorical_accuracy: 0.9955 - loss: 1433.9734 - regularization_loss: 0.0000e+00 - total_loss: 1433.9734 - val_factorized_top_k/top_1_categorical_accuracy: 0.4578 - val_factorized_top_k/top_5_categorical_accuracy: 0.8808 - val_factorized_top_k/top_10_categorical_accuracy: 0.9344 - val_factorized_top_k/top_50_categorical_accuracy: 0.9894 - val_factorized_top_k/top_100_categorical_accuracy: 0.9956 - val_loss: 783.6552 - val_regularization_loss: 0.0000e+00 - val_total_loss: 783.6552\n",
      "Epoch 83/100\n",
      "22/22 [==============================] - 119s 6s/step - factorized_top_k/top_1_categorical_accuracy: 0.4645 - factorized_top_k/top_5_categorical_accuracy: 0.8788 - factorized_top_k/top_10_categorical_accuracy: 0.9336 - factorized_top_k/top_50_categorical_accuracy: 0.9898 - factorized_top_k/top_100_categorical_accuracy: 0.9960 - loss: 1399.5682 - regularization_loss: 0.0000e+00 - total_loss: 1399.5682 - val_factorized_top_k/top_1_categorical_accuracy: 0.4651 - val_factorized_top_k/top_5_categorical_accuracy: 0.8865 - val_factorized_top_k/top_10_categorical_accuracy: 0.9388 - val_factorized_top_k/top_50_categorical_accuracy: 0.9905 - val_factorized_top_k/top_100_categorical_accuracy: 0.9959 - val_loss: 764.1429 - val_regularization_loss: 0.0000e+00 - val_total_loss: 764.1429\n",
      "Epoch 84/100\n",
      "22/22 [==============================] - 119s 6s/step - factorized_top_k/top_1_categorical_accuracy: 0.4655 - factorized_top_k/top_5_categorical_accuracy: 0.8834 - factorized_top_k/top_10_categorical_accuracy: 0.9374 - factorized_top_k/top_50_categorical_accuracy: 0.9906 - factorized_top_k/top_100_categorical_accuracy: 0.9964 - loss: 1365.9511 - regularization_loss: 0.0000e+00 - total_loss: 1365.9511 - val_factorized_top_k/top_1_categorical_accuracy: 0.4721 - val_factorized_top_k/top_5_categorical_accuracy: 0.8892 - val_factorized_top_k/top_10_categorical_accuracy: 0.9426 - val_factorized_top_k/top_50_categorical_accuracy: 0.9913 - val_factorized_top_k/top_100_categorical_accuracy: 0.9962 - val_loss: 745.1396 - val_regularization_loss: 0.0000e+00 - val_total_loss: 745.1396\n",
      "Epoch 85/100\n",
      "22/22 [==============================] - 120s 6s/step - factorized_top_k/top_1_categorical_accuracy: 0.4684 - factorized_top_k/top_5_categorical_accuracy: 0.8894 - factorized_top_k/top_10_categorical_accuracy: 0.9418 - factorized_top_k/top_50_categorical_accuracy: 0.9916 - factorized_top_k/top_100_categorical_accuracy: 0.9966 - loss: 1333.1076 - regularization_loss: 0.0000e+00 - total_loss: 1333.1076 - val_factorized_top_k/top_1_categorical_accuracy: 0.4763 - val_factorized_top_k/top_5_categorical_accuracy: 0.8971 - val_factorized_top_k/top_10_categorical_accuracy: 0.9457 - val_factorized_top_k/top_50_categorical_accuracy: 0.9920 - val_factorized_top_k/top_100_categorical_accuracy: 0.9964 - val_loss: 726.6339 - val_regularization_loss: 0.0000e+00 - val_total_loss: 726.6339\n",
      "Epoch 86/100\n",
      "22/22 [==============================] - 118s 5s/step - factorized_top_k/top_1_categorical_accuracy: 0.4767 - factorized_top_k/top_5_categorical_accuracy: 0.8958 - factorized_top_k/top_10_categorical_accuracy: 0.9451 - factorized_top_k/top_50_categorical_accuracy: 0.9922 - factorized_top_k/top_100_categorical_accuracy: 0.9968 - loss: 1301.0227 - regularization_loss: 0.0000e+00 - total_loss: 1301.0227 - val_factorized_top_k/top_1_categorical_accuracy: 0.4814 - val_factorized_top_k/top_5_categorical_accuracy: 0.9038 - val_factorized_top_k/top_10_categorical_accuracy: 0.9486 - val_factorized_top_k/top_50_categorical_accuracy: 0.9925 - val_factorized_top_k/top_100_categorical_accuracy: 0.9968 - val_loss: 708.6152 - val_regularization_loss: 0.0000e+00 - val_total_loss: 708.6152\n",
      "Epoch 87/100\n",
      "22/22 [==============================] - 118s 5s/step - factorized_top_k/top_1_categorical_accuracy: 0.4820 - factorized_top_k/top_5_categorical_accuracy: 0.9005 - factorized_top_k/top_10_categorical_accuracy: 0.9480 - factorized_top_k/top_50_categorical_accuracy: 0.9927 - factorized_top_k/top_100_categorical_accuracy: 0.9971 - loss: 1269.6818 - regularization_loss: 0.0000e+00 - total_loss: 1269.6818 - val_factorized_top_k/top_1_categorical_accuracy: 0.4904 - val_factorized_top_k/top_5_categorical_accuracy: 0.9081 - val_factorized_top_k/top_10_categorical_accuracy: 0.9526 - val_factorized_top_k/top_50_categorical_accuracy: 0.9928 - val_factorized_top_k/top_100_categorical_accuracy: 0.9970 - val_loss: 691.0726 - val_regularization_loss: 0.0000e+00 - val_total_loss: 691.0726\n",
      "Epoch 88/100\n",
      "22/22 [==============================] - 115s 5s/step - factorized_top_k/top_1_categorical_accuracy: 0.4846 - factorized_top_k/top_5_categorical_accuracy: 0.9057 - factorized_top_k/top_10_categorical_accuracy: 0.9521 - factorized_top_k/top_50_categorical_accuracy: 0.9932 - factorized_top_k/top_100_categorical_accuracy: 0.9974 - loss: 1239.0703 - regularization_loss: 0.0000e+00 - total_loss: 1239.0703 - val_factorized_top_k/top_1_categorical_accuracy: 0.4941 - val_factorized_top_k/top_5_categorical_accuracy: 0.9122 - val_factorized_top_k/top_10_categorical_accuracy: 0.9565 - val_factorized_top_k/top_50_categorical_accuracy: 0.9930 - val_factorized_top_k/top_100_categorical_accuracy: 0.9973 - val_loss: 673.9954 - val_regularization_loss: 0.0000e+00 - val_total_loss: 673.9954\n",
      "Epoch 89/100\n",
      "22/22 [==============================] - 121s 6s/step - factorized_top_k/top_1_categorical_accuracy: 0.4861 - factorized_top_k/top_5_categorical_accuracy: 0.9111 - factorized_top_k/top_10_categorical_accuracy: 0.9548 - factorized_top_k/top_50_categorical_accuracy: 0.9938 - factorized_top_k/top_100_categorical_accuracy: 0.9975 - loss: 1209.1740 - regularization_loss: 0.0000e+00 - total_loss: 1209.1740 - val_factorized_top_k/top_1_categorical_accuracy: 0.5013 - val_factorized_top_k/top_5_categorical_accuracy: 0.9159 - val_factorized_top_k/top_10_categorical_accuracy: 0.9600 - val_factorized_top_k/top_50_categorical_accuracy: 0.9939 - val_factorized_top_k/top_100_categorical_accuracy: 0.9975 - val_loss: 657.3734 - val_regularization_loss: 0.0000e+00 - val_total_loss: 657.3734\n",
      "Epoch 90/100\n",
      "22/22 [==============================] - 120s 5s/step - factorized_top_k/top_1_categorical_accuracy: 0.4906 - factorized_top_k/top_5_categorical_accuracy: 0.9146 - factorized_top_k/top_10_categorical_accuracy: 0.9575 - factorized_top_k/top_50_categorical_accuracy: 0.9943 - factorized_top_k/top_100_categorical_accuracy: 0.9976 - loss: 1179.9786 - regularization_loss: 0.0000e+00 - total_loss: 1179.9786 - val_factorized_top_k/top_1_categorical_accuracy: 0.5039 - val_factorized_top_k/top_5_categorical_accuracy: 0.9192 - val_factorized_top_k/top_10_categorical_accuracy: 0.9617 - val_factorized_top_k/top_50_categorical_accuracy: 0.9941 - val_factorized_top_k/top_100_categorical_accuracy: 0.9975 - val_loss: 641.1957 - val_regularization_loss: 0.0000e+00 - val_total_loss: 641.1957\n",
      "Epoch 91/100\n",
      "22/22 [==============================] - 116s 5s/step - factorized_top_k/top_1_categorical_accuracy: 0.4984 - factorized_top_k/top_5_categorical_accuracy: 0.9196 - factorized_top_k/top_10_categorical_accuracy: 0.9603 - factorized_top_k/top_50_categorical_accuracy: 0.9946 - factorized_top_k/top_100_categorical_accuracy: 0.9978 - loss: 1151.4704 - regularization_loss: 0.0000e+00 - total_loss: 1151.4704 - val_factorized_top_k/top_1_categorical_accuracy: 0.5092 - val_factorized_top_k/top_5_categorical_accuracy: 0.9231 - val_factorized_top_k/top_10_categorical_accuracy: 0.9642 - val_factorized_top_k/top_50_categorical_accuracy: 0.9946 - val_factorized_top_k/top_100_categorical_accuracy: 0.9977 - val_loss: 625.4524 - val_regularization_loss: 0.0000e+00 - val_total_loss: 625.4524\n",
      "Epoch 92/100\n",
      "22/22 [==============================] - 118s 5s/step - factorized_top_k/top_1_categorical_accuracy: 0.5025 - factorized_top_k/top_5_categorical_accuracy: 0.9228 - factorized_top_k/top_10_categorical_accuracy: 0.9630 - factorized_top_k/top_50_categorical_accuracy: 0.9953 - factorized_top_k/top_100_categorical_accuracy: 0.9979 - loss: 1123.6358 - regularization_loss: 0.0000e+00 - total_loss: 1123.6358 - val_factorized_top_k/top_1_categorical_accuracy: 0.5110 - val_factorized_top_k/top_5_categorical_accuracy: 0.9277 - val_factorized_top_k/top_10_categorical_accuracy: 0.9666 - val_factorized_top_k/top_50_categorical_accuracy: 0.9954 - val_factorized_top_k/top_100_categorical_accuracy: 0.9980 - val_loss: 610.1337 - val_regularization_loss: 0.0000e+00 - val_total_loss: 610.1337\n",
      "Epoch 93/100\n",
      "22/22 [==============================] - 118s 5s/step - factorized_top_k/top_1_categorical_accuracy: 0.5054 - factorized_top_k/top_5_categorical_accuracy: 0.9267 - factorized_top_k/top_10_categorical_accuracy: 0.9652 - factorized_top_k/top_50_categorical_accuracy: 0.9956 - factorized_top_k/top_100_categorical_accuracy: 0.9983 - loss: 1096.4614 - regularization_loss: 0.0000e+00 - total_loss: 1096.4614 - val_factorized_top_k/top_1_categorical_accuracy: 0.5104 - val_factorized_top_k/top_5_categorical_accuracy: 0.9306 - val_factorized_top_k/top_10_categorical_accuracy: 0.9682 - val_factorized_top_k/top_50_categorical_accuracy: 0.9959 - val_factorized_top_k/top_100_categorical_accuracy: 0.9980 - val_loss: 595.2296 - val_regularization_loss: 0.0000e+00 - val_total_loss: 595.2296\n",
      "Epoch 94/100\n",
      "22/22 [==============================] - 118s 5s/step - factorized_top_k/top_1_categorical_accuracy: 0.5064 - factorized_top_k/top_5_categorical_accuracy: 0.9300 - factorized_top_k/top_10_categorical_accuracy: 0.9674 - factorized_top_k/top_50_categorical_accuracy: 0.9960 - factorized_top_k/top_100_categorical_accuracy: 0.9984 - loss: 1069.9344 - regularization_loss: 0.0000e+00 - total_loss: 1069.9344 - val_factorized_top_k/top_1_categorical_accuracy: 0.5141 - val_factorized_top_k/top_5_categorical_accuracy: 0.9341 - val_factorized_top_k/top_10_categorical_accuracy: 0.9706 - val_factorized_top_k/top_50_categorical_accuracy: 0.9960 - val_factorized_top_k/top_100_categorical_accuracy: 0.9982 - val_loss: 580.7311 - val_regularization_loss: 0.0000e+00 - val_total_loss: 580.7311\n",
      "Epoch 95/100\n",
      "22/22 [==============================] - 119s 6s/step - factorized_top_k/top_1_categorical_accuracy: 0.5163 - factorized_top_k/top_5_categorical_accuracy: 0.9342 - factorized_top_k/top_10_categorical_accuracy: 0.9696 - factorized_top_k/top_50_categorical_accuracy: 0.9963 - factorized_top_k/top_100_categorical_accuracy: 0.9985 - loss: 1044.0422 - regularization_loss: 0.0000e+00 - total_loss: 1044.0422 - val_factorized_top_k/top_1_categorical_accuracy: 0.5155 - val_factorized_top_k/top_5_categorical_accuracy: 0.9367 - val_factorized_top_k/top_10_categorical_accuracy: 0.9728 - val_factorized_top_k/top_50_categorical_accuracy: 0.9964 - val_factorized_top_k/top_100_categorical_accuracy: 0.9983 - val_loss: 566.6285 - val_regularization_loss: 0.0000e+00 - val_total_loss: 566.6285\n",
      "Epoch 96/100\n",
      "22/22 [==============================] - 116s 5s/step - factorized_top_k/top_1_categorical_accuracy: 0.5207 - factorized_top_k/top_5_categorical_accuracy: 0.9370 - factorized_top_k/top_10_categorical_accuracy: 0.9709 - factorized_top_k/top_50_categorical_accuracy: 0.9967 - factorized_top_k/top_100_categorical_accuracy: 0.9986 - loss: 1018.7723 - regularization_loss: 0.0000e+00 - total_loss: 1018.7723 - val_factorized_top_k/top_1_categorical_accuracy: 0.5196 - val_factorized_top_k/top_5_categorical_accuracy: 0.9398 - val_factorized_top_k/top_10_categorical_accuracy: 0.9741 - val_factorized_top_k/top_50_categorical_accuracy: 0.9967 - val_factorized_top_k/top_100_categorical_accuracy: 0.9987 - val_loss: 552.9132 - val_regularization_loss: 0.0000e+00 - val_total_loss: 552.9132\n",
      "Epoch 97/100\n",
      "22/22 [==============================] - 123s 6s/step - factorized_top_k/top_1_categorical_accuracy: 0.5227 - factorized_top_k/top_5_categorical_accuracy: 0.9400 - factorized_top_k/top_10_categorical_accuracy: 0.9734 - factorized_top_k/top_50_categorical_accuracy: 0.9969 - factorized_top_k/top_100_categorical_accuracy: 0.9988 - loss: 994.1129 - regularization_loss: 0.0000e+00 - total_loss: 994.1129 - val_factorized_top_k/top_1_categorical_accuracy: 0.5170 - val_factorized_top_k/top_5_categorical_accuracy: 0.9434 - val_factorized_top_k/top_10_categorical_accuracy: 0.9760 - val_factorized_top_k/top_50_categorical_accuracy: 0.9968 - val_factorized_top_k/top_100_categorical_accuracy: 0.9991 - val_loss: 539.5756 - val_regularization_loss: 0.0000e+00 - val_total_loss: 539.5756\n",
      "Epoch 98/100\n",
      "22/22 [==============================] - 126s 6s/step - factorized_top_k/top_1_categorical_accuracy: 0.5228 - factorized_top_k/top_5_categorical_accuracy: 0.9432 - factorized_top_k/top_10_categorical_accuracy: 0.9756 - factorized_top_k/top_50_categorical_accuracy: 0.9970 - factorized_top_k/top_100_categorical_accuracy: 0.9991 - loss: 970.0525 - regularization_loss: 0.0000e+00 - total_loss: 970.0525 - val_factorized_top_k/top_1_categorical_accuracy: 0.5270 - val_factorized_top_k/top_5_categorical_accuracy: 0.9468 - val_factorized_top_k/top_10_categorical_accuracy: 0.9768 - val_factorized_top_k/top_50_categorical_accuracy: 0.9969 - val_factorized_top_k/top_100_categorical_accuracy: 0.9993 - val_loss: 526.6097 - val_regularization_loss: 0.0000e+00 - val_total_loss: 526.6097\n",
      "Epoch 99/100\n",
      "22/22 [==============================] - 116s 5s/step - factorized_top_k/top_1_categorical_accuracy: 0.5280 - factorized_top_k/top_5_categorical_accuracy: 0.9453 - factorized_top_k/top_10_categorical_accuracy: 0.9768 - factorized_top_k/top_50_categorical_accuracy: 0.9971 - factorized_top_k/top_100_categorical_accuracy: 0.9993 - loss: 946.5796 - regularization_loss: 0.0000e+00 - total_loss: 946.5796 - val_factorized_top_k/top_1_categorical_accuracy: 0.5233 - val_factorized_top_k/top_5_categorical_accuracy: 0.9486 - val_factorized_top_k/top_10_categorical_accuracy: 0.9786 - val_factorized_top_k/top_50_categorical_accuracy: 0.9969 - val_factorized_top_k/top_100_categorical_accuracy: 0.9994 - val_loss: 514.0016 - val_regularization_loss: 0.0000e+00 - val_total_loss: 514.0016\n",
      "Epoch 100/100\n",
      "22/22 [==============================] - 122s 6s/step - factorized_top_k/top_1_categorical_accuracy: 0.5361 - factorized_top_k/top_5_categorical_accuracy: 0.9488 - factorized_top_k/top_10_categorical_accuracy: 0.9787 - factorized_top_k/top_50_categorical_accuracy: 0.9972 - factorized_top_k/top_100_categorical_accuracy: 0.9993 - loss: 923.6834 - regularization_loss: 0.0000e+00 - total_loss: 923.6834 - val_factorized_top_k/top_1_categorical_accuracy: 0.5387 - val_factorized_top_k/top_5_categorical_accuracy: 0.9509 - val_factorized_top_k/top_10_categorical_accuracy: 0.9803 - val_factorized_top_k/top_50_categorical_accuracy: 0.9970 - val_factorized_top_k/top_100_categorical_accuracy: 0.9994 - val_loss: 501.7532 - val_regularization_loss: 0.0000e+00 - val_total_loss: 501.7532\n"
     ]
    }
   ],
   "source": [
    "start_train = True\n",
    "\n",
    "if start_train:\n",
    "    history = candidates_model.fit(\n",
    "        x=cached_train,\n",
    "        epochs=100,\n",
    "        verbose=True,\n",
    "        batch_size=100,\n",
    "        validation_data=cached_val,\n",
    "        callbacks=callbacks,\n",
    "        use_multiprocessing=True,\n",
    "        workers=12\n",
    "    )"
   ]
  },
  {
   "cell_type": "code",
   "execution_count": null,
   "metadata": {
    "id": "PqIfqtI52dW5"
   },
   "outputs": [],
   "source": [
    "if start_train:\n",
    "    candidates_model.save_weights(filepath='./weights/trained_n_personalized_model', overwrite=True)"
   ]
  },
  {
   "cell_type": "code",
   "execution_count": null,
   "metadata": {
    "colab": {
     "base_uri": "https://localhost:8080/"
    },
    "id": "EvYmdlRd8pvo",
    "outputId": "31526bff-396a-45d8-b790-224d02e31bc5"
   },
   "outputs": [
    {
     "data": {
      "text/plain": [
       "[1190.961181640625,\n",
       " 1184.299072265625,\n",
       " 1175.740478515625,\n",
       " 1164.96533203125,\n",
       " 1151.760986328125,\n",
       " 1136.130859375,\n",
       " 1118.3831787109375,\n",
       " 1099.12109375,\n",
       " 1079.0869140625,\n",
       " 1058.9197998046875,\n",
       " 1038.9866943359375,\n",
       " 1019.39111328125,\n",
       " 1000.1109619140625,\n",
       " 981.1283569335938,\n",
       " 962.4678955078125,\n",
       " 944.1663208007812,\n",
       " 926.2283935546875,\n",
       " 908.6019287109375,\n",
       " 891.182373046875,\n",
       " 873.83935546875,\n",
       " 856.4482421875,\n",
       " 838.9127197265625,\n",
       " 821.1746826171875,\n",
       " 803.2137451171875,\n",
       " 785.0404052734375,\n",
       " 766.6871337890625,\n",
       " 748.2005004882812,\n",
       " 729.6353759765625,\n",
       " 711.0517578125,\n",
       " 692.5130615234375,\n",
       " 674.083984375,\n",
       " 655.8265380859375,\n",
       " 637.795654296875,\n",
       " 620.0355224609375,\n",
       " 602.5772705078125,\n",
       " 585.4391479492188,\n",
       " 568.6284790039062,\n",
       " 552.1444091796875,\n",
       " 535.98095703125,\n",
       " 520.1287231445312,\n",
       " 504.577880859375,\n",
       " 489.3182373046875,\n",
       " 474.3416748046875,\n",
       " 459.64239501953125,\n",
       " 445.21783447265625,\n",
       " 431.0682373046875,\n",
       " 417.19659423828125,\n",
       " 403.607421875,\n",
       " 390.3057861328125,\n",
       " 377.2962646484375,\n",
       " 364.5821838378906,\n",
       " 352.1654052734375,\n",
       " 340.04669189453125,\n",
       " 328.2269287109375,\n",
       " 316.708251953125,\n",
       " 305.493896484375,\n",
       " 294.58819580078125,\n",
       " 283.9955139160156,\n",
       " 273.7193603515625,\n",
       " 263.7620544433594,\n",
       " 254.1240234375,\n",
       " 244.80368041992188,\n",
       " 235.7974853515625,\n",
       " 227.10006713867188,\n",
       " 218.7043914794922,\n",
       " 210.6025390625,\n",
       " 202.78591918945312,\n",
       " 195.24581909179688,\n",
       " 187.97373962402344,\n",
       " 180.96153259277344,\n",
       " 174.2011260986328,\n",
       " 167.68502807617188,\n",
       " 161.40576171875,\n",
       " 155.35617065429688,\n",
       " 149.52928161621094,\n",
       " 143.9183349609375,\n",
       " 138.51657104492188,\n",
       " 133.3175811767578,\n",
       " 128.31512451171875,\n",
       " 123.50306701660156,\n",
       " 118.87539672851562,\n",
       " 114.4263916015625,\n",
       " 110.150390625,\n",
       " 106.04192352294922,\n",
       " 102.09562683105469,\n",
       " 98.30634307861328,\n",
       " 94.66900634765625,\n",
       " 91.17864990234375,\n",
       " 87.83047485351562,\n",
       " 84.61970520019531,\n",
       " 81.54176330566406,\n",
       " 78.59211730957031,\n",
       " 75.76634216308594,\n",
       " 73.06011962890625,\n",
       " 70.46925354003906,\n",
       " 67.9895248413086,\n",
       " 65.61679077148438,\n",
       " 63.34716796875,\n",
       " 61.176536560058594,\n",
       " 59.10131072998047]"
      ]
     },
     "execution_count": 60,
     "metadata": {},
     "output_type": "execute_result"
    }
   ],
   "source": [
    "history.history['loss']"
   ]
  },
  {
   "cell_type": "code",
   "execution_count": null,
   "metadata": {
    "colab": {
     "base_uri": "https://localhost:8080/",
     "height": 472
    },
    "id": "CsqBadQFIZqM",
    "outputId": "17c6b041-9384-46c0-b4dd-f98f7b3b8bc0"
   },
   "outputs": [
    {
     "data": {
      "image/png": "[encoded data removed]",
      "text/plain": [
       "<Figure size 640x480 with 1 Axes>"
      ]
     },
     "metadata": {},
     "output_type": "display_data"
    }
   ],
   "source": [
    "if start_train:\n",
    "\n",
    "    plt.plot(history.history[\"loss\"])\n",
    "    # plt.plot(history.history[\"regularization_loss\"])\n",
    "    # plt.plot(history.history[\"total_loss\"])\n",
    "    plt.title(\"Model losses during training\")\n",
    "    plt.xlabel(\"epoch\")\n",
    "    plt.ylabel(\"loss\")\n",
    "    plt.legend([\"loss\"], loc=\"upper right\")\n",
    "    plt.show()"
   ]
  },
  {
   "cell_type": "code",
   "execution_count": null,
   "metadata": {
    "colab": {
     "base_uri": "https://localhost:8080/"
    },
    "id": "n4nVAfxsAbcB",
    "outputId": "428b62f6-33fd-4077-d981-677ee051206a"
   },
   "outputs": [
    {
     "name": "stdout",
     "output_type": "stream",
     "text": [
      "22/22 [==============================] - 81s 4s/step - factorized_top_k/top_1_categorical_accuracy: 0.5377 - factorized_top_k/top_5_categorical_accuracy: 0.9511 - factorized_top_k/top_10_categorical_accuracy: 0.9798 - factorized_top_k/top_50_categorical_accuracy: 0.9973 - factorized_top_k/top_100_categorical_accuracy: 0.9995 - loss: 909.1127 - regularization_loss: 0.0000e+00 - total_loss: 909.1127\n",
      "11/11 [==============================] - 37s 3s/step - factorized_top_k/top_1_categorical_accuracy: 0.5367 - factorized_top_k/top_5_categorical_accuracy: 0.9514 - factorized_top_k/top_10_categorical_accuracy: 0.9794 - factorized_top_k/top_50_categorical_accuracy: 0.9976 - factorized_top_k/top_100_categorical_accuracy: 0.9995 - loss: 964.4078 - regularization_loss: 0.0000e+00 - total_loss: 964.4078\n",
      "Top-100 accuracy (train): 1.00.\n",
      "Top-100 accuracy (test): 1.00.\n"
     ]
    }
   ],
   "source": [
    "if start_train:\n",
    "    train_accuracy = candidates_model.evaluate(\n",
    "        cached_train, return_dict=True)[\"factorized_top_k/top_100_categorical_accuracy\"]\n",
    "\n",
    "    test_accuracy = candidates_model.evaluate(\n",
    "        cached_test, return_dict=True)[\"factorized_top_k/top_100_categorical_accuracy\"]\n",
    "\n",
    "    print(f\"Top-100 accuracy (train): {train_accuracy:.2f}.\")\n",
    "    print(f\"Top-100 accuracy (test): {test_accuracy:.2f}.\")"
   ]
  },
  {
   "cell_type": "markdown",
   "metadata": {
    "id": "0CYTR3ZpkCbK"
   },
   "source": [
    "## Get Recommendation"
   ]
  },
  {
   "cell_type": "code",
   "execution_count": 32,
   "metadata": {
    "colab": {
     "base_uri": "https://localhost:8080/"
    },
    "id": "9ubpzeWYIkoM",
    "outputId": "27e7b1d1-5316-4d20-a351-8f1b8cc838c5"
   },
   "outputs": [
    {
     "data": {
      "text/plain": [
       "<tensorflow.python.checkpoint.checkpoint.CheckpointLoadStatus at 0x7e778b0d9180>"
      ]
     },
     "execution_count": 32,
     "metadata": {},
     "output_type": "execute_result"
    }
   ],
   "source": [
    "candidates_model.load_weights(filepath='./weights/trained_n_personalized_model')"
   ]
  },
  {
   "cell_type": "code",
   "execution_count": 33,
   "metadata": {
    "id": "x4oMmhvBJMes"
   },
   "outputs": [],
   "source": [
    "index = tfrs.layers.factorized_top_k.BruteForce(\n",
    "    candidates_model.query_model\n",
    ")"
   ]
  },
  {
   "cell_type": "code",
   "execution_count": null,
   "metadata": {
    "id": "TM00QGSpInw6"
   },
   "outputs": [],
   "source": [
    "trained_index = index.index_from_dataset(\n",
    "  tf.data.Dataset.zip((\n",
    "    song.batch(100).map(lambda x: x[\"track_id\"]),\n",
    "    song.batch(100).map(lambda x: {\n",
    "      'track_id': x[\"track_id\"],\n",
    "      'song_title': x[\"song_title\"],\n",
    "      'total_listener': x[\"total_listener\"],\n",
    "      'artist': x[\"artist\"],\n",
    "      'Emotion Quadrant': x[\"Emotion Quadrant\"]\n",
    "      }).map(candidates_model.candidate_model)))\n",
    ")\n",
    "\n",
    "index_song = dict(song_df[['track_id','song_title']].to_numpy())"
   ]
  },
  {
   "cell_type": "markdown",
   "metadata": {
    "id": "cQUWF1q4jWmT"
   },
   "source": [
    "### Function"
   ]
  },
  {
   "cell_type": "code",
   "execution_count": 39,
   "metadata": {
    "id": "dC94MJAgfjVL"
   },
   "outputs": [],
   "source": [
    "def get_recommendation(user_id):\n",
    "\n",
    "  # Get Segment of User\n",
    "  segment = str(user_df[user_df['user_id'] == user_id]['segment'].values[0])\n",
    "\n",
    "  # Transform user_id to New Format\n",
    "  user_id = 'id_' + str(user_id)\n",
    "\n",
    "  # Get the Most Listening Song of that User\n",
    "  user_interactions = interaction_df[interaction_df['user_id'] == user_id]\n",
    "  track_id = user_interactions.groupby('track_id')['playcount'].sum().idxmax()\n",
    "\n",
    "  # Use the Information to Get the Recommendation\n",
    "  scores , titles = trained_index(queries = {\n",
    "    'user_id':tf.constant([user_id]),\n",
    "    'track_id':tf.constant([track_id]),\n",
    "    'segment':tf.constant([segment])\n",
    "    }, k = 10\n",
    "  )\n",
    "\n",
    "  titles = [index_song[idx.decode('utf-8')] for idx in titles[0, :].numpy()]\n",
    "\n",
    "  recommendation_dict = dict(zip(titles, scores.numpy()[0]))\n",
    "\n",
    "  return recommendation_dict, track_id"
   ]
  },
  {
   "cell_type": "code",
   "execution_count": 45,
   "metadata": {
    "id": "1TEYqsiTWLrM"
   },
   "outputs": [],
   "source": [
    "def get_recommend_df(user_id):\n",
    "\n",
    "  recommend_outputs = get_recommendation(user_id)[0]\n",
    "\n",
    "  # Convert dictionary to DataFrame\n",
    "  recommend_df = pd.DataFrame({\n",
    "    'Ranking': range(1, len(recommend_outputs) + 1),\n",
    "    'Song Titles': [song.split(\" by \")[0] for song in recommend_outputs.keys()],\n",
    "    'Artist': [song.split(\" by \")[1] for song in recommend_outputs.keys()],\n",
    "    'Score': list(recommend_outputs.values())\n",
    "  })\n",
    "\n",
    "  return recommend_df"
   ]
  },
  {
   "cell_type": "code",
   "execution_count": 40,
   "metadata": {
    "id": "eOsoew1-icvU"
   },
   "outputs": [],
   "source": [
    "def calculate_accuracy_mood(recommendation_dict):\n",
    "\n",
    "  mood_dict = {}\n",
    "\n",
    "  for idx, row in mood_df.iterrows():\n",
    "\n",
    "    # Combine the name and artist to create the key\n",
    "    song_artist_key = f\"{row['name']} by {row['artist']}\"\n",
    "\n",
    "    # Check if the song is in the dictionary, then update the value with the 'Emotion Quadrant'\n",
    "    if song_artist_key in recommendation_dict:\n",
    "        mood_dict[song_artist_key] = row['Emotion Quadrant']\n",
    "\n",
    "  return mood_dict"
   ]
  },
  {
   "cell_type": "markdown",
   "metadata": {},
   "source": [
    "### Display Recommendation"
   ]
  },
  {
   "cell_type": "code",
   "execution_count": null,
   "metadata": {
    "colab": {
     "base_uri": "https://localhost:8080/",
     "height": 359
    },
    "id": "KcdR1c2zVUVY",
    "outputId": "61412f8b-f5e6-480a-e1e8-7078303fc5ea"
   },
   "outputs": [
    {
     "data": {
      "application/vnd.google.colaboratory.intrinsic+json": {
       "summary": "{\n  \"name\": \"get_recommend_df(269099)\",\n  \"rows\": 10,\n  \"fields\": [\n    {\n      \"column\": \"Ranking\",\n      \"properties\": {\n        \"dtype\": \"number\",\n        \"std\": 3,\n        \"min\": 1,\n        \"max\": 10,\n        \"num_unique_values\": 10,\n        \"samples\": [\n          9,\n          2,\n          6\n        ],\n        \"semantic_type\": \"\",\n        \"description\": \"\"\n      }\n    },\n    {\n      \"column\": \"Song Titles\",\n      \"properties\": {\n        \"dtype\": \"string\",\n        \"num_unique_values\": 10,\n        \"samples\": [\n          \"Going to Your Funeral Part II\",\n          \"Goodbye My Lover\",\n          \"Skypager\"\n        ],\n        \"semantic_type\": \"\",\n        \"description\": \"\"\n      }\n    },\n    {\n      \"column\": \"Artist\",\n      \"properties\": {\n        \"dtype\": \"string\",\n        \"num_unique_values\": 10,\n        \"samples\": [\n          \"Eels\",\n          \"James Blunt\",\n          \"A Tribe Called Quest\"\n        ],\n        \"semantic_type\": \"\",\n        \"description\": \"\"\n      }\n    },\n    {\n      \"column\": \"Score\",\n      \"properties\": {\n        \"dtype\": \"float32\",\n        \"num_unique_values\": 10,\n        \"samples\": [\n          29.07461166381836,\n          29.326862335205078,\n          29.14896583557129\n        ],\n        \"semantic_type\": \"\",\n        \"description\": \"\"\n      }\n    }\n  ]\n}",
       "type": "dataframe"
      },
      "text/html": [
       "\n",
       "  <div id=\"df-7e8abbf5-b86e-4f4a-90d5-a8aba793f2f4\" class=\"colab-df-container\">\n",
       "    <div>\n",
       "<style scoped>\n",
       "    .dataframe tbody tr th:only-of-type {\n",
       "        vertical-align: middle;\n",
       "    }\n",
       "\n",
       "    .dataframe tbody tr th {\n",
       "        vertical-align: top;\n",
       "    }\n",
       "\n",
       "    .dataframe thead th {\n",
       "        text-align: right;\n",
       "    }\n",
       "</style>\n",
       "<table border=\"1\" class=\"dataframe\">\n",
       "  <thead>\n",
       "    <tr style=\"text-align: right;\">\n",
       "      <th></th>\n",
       "      <th>Ranking</th>\n",
       "      <th>Song Titles</th>\n",
       "      <th>Artist</th>\n",
       "      <th>Score</th>\n",
       "    </tr>\n",
       "  </thead>\n",
       "  <tbody>\n",
       "    <tr>\n",
       "      <th>0</th>\n",
       "      <td>1</td>\n",
       "      <td>Hey Stephen</td>\n",
       "      <td>Taylor Swift</td>\n",
       "      <td>29.426807</td>\n",
       "    </tr>\n",
       "    <tr>\n",
       "      <th>1</th>\n",
       "      <td>2</td>\n",
       "      <td>Goodbye My Lover</td>\n",
       "      <td>James Blunt</td>\n",
       "      <td>29.326862</td>\n",
       "    </tr>\n",
       "    <tr>\n",
       "      <th>2</th>\n",
       "      <td>3</td>\n",
       "      <td>Fireproof</td>\n",
       "      <td>The National</td>\n",
       "      <td>29.303545</td>\n",
       "    </tr>\n",
       "    <tr>\n",
       "      <th>3</th>\n",
       "      <td>4</td>\n",
       "      <td>Yesterday Threw Everything At Me</td>\n",
       "      <td>Athlete</td>\n",
       "      <td>29.270155</td>\n",
       "    </tr>\n",
       "    <tr>\n",
       "      <th>4</th>\n",
       "      <td>5</td>\n",
       "      <td>Jewel Box</td>\n",
       "      <td>Jeff Buckley</td>\n",
       "      <td>29.203146</td>\n",
       "    </tr>\n",
       "    <tr>\n",
       "      <th>5</th>\n",
       "      <td>6</td>\n",
       "      <td>Skypager</td>\n",
       "      <td>A Tribe Called Quest</td>\n",
       "      <td>29.148966</td>\n",
       "    </tr>\n",
       "    <tr>\n",
       "      <th>6</th>\n",
       "      <td>7</td>\n",
       "      <td>The Stranger Song</td>\n",
       "      <td>Leonard Cohen</td>\n",
       "      <td>29.099771</td>\n",
       "    </tr>\n",
       "    <tr>\n",
       "      <th>7</th>\n",
       "      <td>8</td>\n",
       "      <td>Nowhere Warm</td>\n",
       "      <td>Kate Havnevik</td>\n",
       "      <td>29.086969</td>\n",
       "    </tr>\n",
       "    <tr>\n",
       "      <th>8</th>\n",
       "      <td>9</td>\n",
       "      <td>Going to Your Funeral Part II</td>\n",
       "      <td>Eels</td>\n",
       "      <td>29.074612</td>\n",
       "    </tr>\n",
       "    <tr>\n",
       "      <th>9</th>\n",
       "      <td>10</td>\n",
       "      <td>Pry, To</td>\n",
       "      <td>Pearl Jam</td>\n",
       "      <td>29.072317</td>\n",
       "    </tr>\n",
       "  </tbody>\n",
       "</table>\n",
       "</div>\n",
       "    <div class=\"colab-df-buttons\">\n",
       "\n",
       "  <div class=\"colab-df-container\">\n",
       "    <button class=\"colab-df-convert\" onclick=\"convertToInteractive('df-7e8abbf5-b86e-4f4a-90d5-a8aba793f2f4')\"\n",
       "            title=\"Convert this dataframe to an interactive table.\"\n",
       "            style=\"display:none;\">\n",
       "\n",
       "  <svg xmlns=\"http://www.w3.org/2000/svg\" height=\"24px\" viewBox=\"0 -960 960 960\">\n",
       "    <path d=\"M120-120v-720h720v720H120Zm60-500h600v-160H180v160Zm220 220h160v-160H400v160Zm0 220h160v-160H400v160ZM180-400h160v-160H180v160Zm440 0h160v-160H620v160ZM180-180h160v-160H180v160Zm440 0h160v-160H620v160Z\"/>\n",
       "  </svg>\n",
       "    </button>\n",
       "\n",
       "  <style>\n",
       "    .colab-df-container {\n",
       "      display:flex;\n",
       "      gap: 12px;\n",
       "    }\n",
       "\n",
       "    .colab-df-convert {\n",
       "      background-color: #E8F0FE;\n",
       "      border: none;\n",
       "      border-radius: 50%;\n",
       "      cursor: pointer;\n",
       "      display: none;\n",
       "      fill: #1967D2;\n",
       "      height: 32px;\n",
       "      padding: 0 0 0 0;\n",
       "      width: 32px;\n",
       "    }\n",
       "\n",
       "    .colab-df-convert:hover {\n",
       "      background-color: #E2EBFA;\n",
       "      box-shadow: 0px 1px 2px rgba(60, 64, 67, 0.3), 0px 1px 3px 1px rgba(60, 64, 67, 0.15);\n",
       "      fill: #174EA6;\n",
       "    }\n",
       "\n",
       "    .colab-df-buttons div {\n",
       "      margin-bottom: 4px;\n",
       "    }\n",
       "\n",
       "    [theme=dark] .colab-df-convert {\n",
       "      background-color: #3B4455;\n",
       "      fill: #D2E3FC;\n",
       "    }\n",
       "\n",
       "    [theme=dark] .colab-df-convert:hover {\n",
       "      background-color: #434B5C;\n",
       "      box-shadow: 0px 1px 3px 1px rgba(0, 0, 0, 0.15);\n",
       "      filter: drop-shadow(0px 1px 2px rgba(0, 0, 0, 0.3));\n",
       "      fill: #FFFFFF;\n",
       "    }\n",
       "  </style>\n",
       "\n",
       "    <script>\n",
       "      const buttonEl =\n",
       "        document.querySelector('#df-7e8abbf5-b86e-4f4a-90d5-a8aba793f2f4 button.colab-df-convert');\n",
       "      buttonEl.style.display =\n",
       "        google.colab.kernel.accessAllowed ? 'block' : 'none';\n",
       "\n",
       "      async function convertToInteractive(key) {\n",
       "        const element = document.querySelector('#df-7e8abbf5-b86e-4f4a-90d5-a8aba793f2f4');\n",
       "        const dataTable =\n",
       "          await google.colab.kernel.invokeFunction('convertToInteractive',\n",
       "                                                    [key], {});\n",
       "        if (!dataTable) return;\n",
       "\n",
       "        const docLinkHtml = 'Like what you see? Visit the ' +\n",
       "          '<a target=\"_blank\" href=https://colab.research.google.com/notebooks/data_table.ipynb>data table notebook</a>'\n",
       "          + ' to learn more about interactive tables.';\n",
       "        element.innerHTML = '';\n",
       "        dataTable['output_type'] = 'display_data';\n",
       "        await google.colab.output.renderOutput(dataTable, element);\n",
       "        const docLink = document.createElement('div');\n",
       "        docLink.innerHTML = docLinkHtml;\n",
       "        element.appendChild(docLink);\n",
       "      }\n",
       "    </script>\n",
       "  </div>\n",
       "\n",
       "\n",
       "<div id=\"df-6350a085-f2ae-4d72-9208-8a93d326e174\">\n",
       "  <button class=\"colab-df-quickchart\" onclick=\"quickchart('df-6350a085-f2ae-4d72-9208-8a93d326e174')\"\n",
       "            title=\"Suggest charts\"\n",
       "            style=\"display:none;\">\n",
       "\n",
       "<svg xmlns=\"http://www.w3.org/2000/svg\" height=\"24px\"viewBox=\"0 0 24 24\"\n",
       "     width=\"24px\">\n",
       "    <g>\n",
       "        <path d=\"M19 3H5c-1.1 0-2 .9-2 2v14c0 1.1.9 2 2 2h14c1.1 0 2-.9 2-2V5c0-1.1-.9-2-2-2zM9 17H7v-7h2v7zm4 0h-2V7h2v10zm4 0h-2v-4h2v4z\"/>\n",
       "    </g>\n",
       "</svg>\n",
       "  </button>\n",
       "\n",
       "<style>\n",
       "  .colab-df-quickchart {\n",
       "      --bg-color: #E8F0FE;\n",
       "      --fill-color: #1967D2;\n",
       "      --hover-bg-color: #E2EBFA;\n",
       "      --hover-fill-color: #174EA6;\n",
       "      --disabled-fill-color: #AAA;\n",
       "      --disabled-bg-color: #DDD;\n",
       "  }\n",
       "\n",
       "  [theme=dark] .colab-df-quickchart {\n",
       "      --bg-color: #3B4455;\n",
       "      --fill-color: #D2E3FC;\n",
       "      --hover-bg-color: #434B5C;\n",
       "      --hover-fill-color: #FFFFFF;\n",
       "      --disabled-bg-color: #3B4455;\n",
       "      --disabled-fill-color: #666;\n",
       "  }\n",
       "\n",
       "  .colab-df-quickchart {\n",
       "    background-color: var(--bg-color);\n",
       "    border: none;\n",
       "    border-radius: 50%;\n",
       "    cursor: pointer;\n",
       "    display: none;\n",
       "    fill: var(--fill-color);\n",
       "    height: 32px;\n",
       "    padding: 0;\n",
       "    width: 32px;\n",
       "  }\n",
       "\n",
       "  .colab-df-quickchart:hover {\n",
       "    background-color: var(--hover-bg-color);\n",
       "    box-shadow: 0 1px 2px rgba(60, 64, 67, 0.3), 0 1px 3px 1px rgba(60, 64, 67, 0.15);\n",
       "    fill: var(--button-hover-fill-color);\n",
       "  }\n",
       "\n",
       "  .colab-df-quickchart-complete:disabled,\n",
       "  .colab-df-quickchart-complete:disabled:hover {\n",
       "    background-color: var(--disabled-bg-color);\n",
       "    fill: var(--disabled-fill-color);\n",
       "    box-shadow: none;\n",
       "  }\n",
       "\n",
       "  .colab-df-spinner {\n",
       "    border: 2px solid var(--fill-color);\n",
       "    border-color: transparent;\n",
       "    border-bottom-color: var(--fill-color);\n",
       "    animation:\n",
       "      spin 1s steps(1) infinite;\n",
       "  }\n",
       "\n",
       "  @keyframes spin {\n",
       "    0% {\n",
       "      border-color: transparent;\n",
       "      border-bottom-color: var(--fill-color);\n",
       "      border-left-color: var(--fill-color);\n",
       "    }\n",
       "    20% {\n",
       "      border-color: transparent;\n",
       "      border-left-color: var(--fill-color);\n",
       "      border-top-color: var(--fill-color);\n",
       "    }\n",
       "    30% {\n",
       "      border-color: transparent;\n",
       "      border-left-color: var(--fill-color);\n",
       "      border-top-color: var(--fill-color);\n",
       "      border-right-color: var(--fill-color);\n",
       "    }\n",
       "    40% {\n",
       "      border-color: transparent;\n",
       "      border-right-color: var(--fill-color);\n",
       "      border-top-color: var(--fill-color);\n",
       "    }\n",
       "    60% {\n",
       "      border-color: transparent;\n",
       "      border-right-color: var(--fill-color);\n",
       "    }\n",
       "    80% {\n",
       "      border-color: transparent;\n",
       "      border-right-color: var(--fill-color);\n",
       "      border-bottom-color: var(--fill-color);\n",
       "    }\n",
       "    90% {\n",
       "      border-color: transparent;\n",
       "      border-bottom-color: var(--fill-color);\n",
       "    }\n",
       "  }\n",
       "</style>\n",
       "\n",
       "  <script>\n",
       "    async function quickchart(key) {\n",
       "      const quickchartButtonEl =\n",
       "        document.querySelector('#' + key + ' button');\n",
       "      quickchartButtonEl.disabled = true;  // To prevent multiple clicks.\n",
       "      quickchartButtonEl.classList.add('colab-df-spinner');\n",
       "      try {\n",
       "        const charts = await google.colab.kernel.invokeFunction(\n",
       "            'suggestCharts', [key], {});\n",
       "      } catch (error) {\n",
       "        console.error('Error during call to suggestCharts:', error);\n",
       "      }\n",
       "      quickchartButtonEl.classList.remove('colab-df-spinner');\n",
       "      quickchartButtonEl.classList.add('colab-df-quickchart-complete');\n",
       "    }\n",
       "    (() => {\n",
       "      let quickchartButtonEl =\n",
       "        document.querySelector('#df-6350a085-f2ae-4d72-9208-8a93d326e174 button');\n",
       "      quickchartButtonEl.style.display =\n",
       "        google.colab.kernel.accessAllowed ? 'block' : 'none';\n",
       "    })();\n",
       "  </script>\n",
       "</div>\n",
       "\n",
       "    </div>\n",
       "  </div>\n"
      ],
      "text/plain": [
       "   Ranking                       Song Titles                Artist      Score\n",
       "0        1                       Hey Stephen          Taylor Swift  29.426807\n",
       "1        2                  Goodbye My Lover           James Blunt  29.326862\n",
       "2        3                         Fireproof          The National  29.303545\n",
       "3        4  Yesterday Threw Everything At Me               Athlete  29.270155\n",
       "4        5                         Jewel Box          Jeff Buckley  29.203146\n",
       "5        6                          Skypager  A Tribe Called Quest  29.148966\n",
       "6        7                 The Stranger Song         Leonard Cohen  29.099771\n",
       "7        8                      Nowhere Warm         Kate Havnevik  29.086969\n",
       "8        9     Going to Your Funeral Part II                  Eels  29.074612\n",
       "9       10                           Pry, To             Pearl Jam  29.072317"
      ]
     },
     "execution_count": 48,
     "metadata": {},
     "output_type": "execute_result"
    }
   ],
   "source": [
    "# Recommendation for user 269099\n",
    "get_recommend_df(269099)"
   ]
  },
  {
   "cell_type": "markdown",
   "metadata": {
    "id": "Rr0bIW5Kjb6-"
   },
   "source": [
    "# Evaluation"
   ]
  },
  {
   "cell_type": "markdown",
   "metadata": {
    "id": "OKrC-qe1N5wF"
   },
   "source": [
    "- precision@K"
   ]
  },
  {
   "cell_type": "markdown",
   "metadata": {
    "id": "9S6emQfVm5i0"
   },
   "source": [
    "## heavy user (most listeners 600 users)"
   ]
  },
  {
   "cell_type": "code",
   "execution_count": null,
   "metadata": {
    "id": "L1lkXsWhR9vI"
   },
   "outputs": [],
   "source": [
    "heavy_user_listen_df['id'] = heavy_user_listen_df['user_id'].str[3:].astype(int)\n",
    "heavy_user_listener = heavy_user_listen_df['id'].unique()"
   ]
  },
  {
   "cell_type": "code",
   "execution_count": null,
   "metadata": {
    "id": "nVSdfIU3lDj8"
   },
   "outputs": [],
   "source": [
    "item_df = pd.read_csv('df_items_encoded.csv')\n",
    "song_info_df = pd.read_csv('df_song_info_encoded.csv')\n",
    "interaction_df = pd.read_csv('df_interactions_encoded.csv')\n",
    "user_df = pd.read_csv('df_users_encoded.csv')\n",
    "\n",
    "mood_df = item_df[['track_id','Emotion Quadrant']]\n",
    "mood_df = pd.merge(mood_df, song_info_df[['track_id','name','artist']], on='track_id', how='left')\n",
    "\n",
    "interaction_df = pd.merge(interaction_df, mood_df, on='track_id', how='left')"
   ]
  },
  {
   "cell_type": "code",
   "execution_count": null,
   "metadata": {
    "id": "xH3gaQwtTAa4"
   },
   "outputs": [],
   "source": [
    "interaction_df_filtered = interaction_df[interaction_df['user_id'].isin(heavy_user_listener)]\n",
    "\n",
    "# Get the index of the rows with the highest playcount for each user_id\n",
    "idx = interaction_df_filtered.groupby('user_id')['playcount'].idxmax()\n",
    "\n",
    "# Select those rows from the original dataframe\n",
    "most_playcount_df = interaction_df_filtered.loc[idx].reset_index(drop=True)\n",
    "\n",
    "most_playcount_df = pd.merge(most_playcount_df, user_df, on='user_id', how='left')"
   ]
  },
  {
   "cell_type": "code",
   "execution_count": null,
   "metadata": {
    "colab": {
     "base_uri": "https://localhost:8080/",
     "height": 81
    },
    "id": "Gco0InQiW65t",
    "outputId": "e73e808f-e403-467e-e273-168e5d20ddc2"
   },
   "outputs": [
    {
     "data": {
      "application/vnd.google.colaboratory.intrinsic+json": {
       "summary": "{\n  \"name\": \"most_playcount_df[most_playcount_df['user_id']==heavy_user_listener[0]]\",\n  \"rows\": 1,\n  \"fields\": [\n    {\n      \"column\": \"user_id\",\n      \"properties\": {\n        \"dtype\": \"number\",\n        \"std\": null,\n        \"min\": 102396,\n        \"max\": 102396,\n        \"num_unique_values\": 1,\n        \"samples\": [\n          102396\n        ],\n        \"semantic_type\": \"\",\n        \"description\": \"\"\n      }\n    },\n    {\n      \"column\": \"track_id\",\n      \"properties\": {\n        \"dtype\": \"number\",\n        \"std\": null,\n        \"min\": 14545,\n        \"max\": 14545,\n        \"num_unique_values\": 1,\n        \"samples\": [\n          14545\n        ],\n        \"semantic_type\": \"\",\n        \"description\": \"\"\n      }\n    },\n    {\n      \"column\": \"playcount\",\n      \"properties\": {\n        \"dtype\": \"number\",\n        \"std\": null,\n        \"min\": 34,\n        \"max\": 34,\n        \"num_unique_values\": 1,\n        \"samples\": [\n          34\n        ],\n        \"semantic_type\": \"\",\n        \"description\": \"\"\n      }\n    },\n    {\n      \"column\": \"Emotion Quadrant\",\n      \"properties\": {\n        \"dtype\": \"number\",\n        \"std\": null,\n        \"min\": 0,\n        \"max\": 0,\n        \"num_unique_values\": 1,\n        \"samples\": [\n          0\n        ],\n        \"semantic_type\": \"\",\n        \"description\": \"\"\n      }\n    },\n    {\n      \"column\": \"name\",\n      \"properties\": {\n        \"dtype\": \"string\",\n        \"num_unique_values\": 1,\n        \"samples\": [\n          \"5.45\"\n        ],\n        \"semantic_type\": \"\",\n        \"description\": \"\"\n      }\n    },\n    {\n      \"column\": \"artist\",\n      \"properties\": {\n        \"dtype\": \"string\",\n        \"num_unique_values\": 1,\n        \"samples\": [\n          \"Gang of Four\"\n        ],\n        \"semantic_type\": \"\",\n        \"description\": \"\"\n      }\n    },\n    {\n      \"column\": \"segment\",\n      \"properties\": {\n        \"dtype\": \"number\",\n        \"std\": null,\n        \"min\": 1,\n        \"max\": 1,\n        \"num_unique_values\": 1,\n        \"samples\": [\n          1\n        ],\n        \"semantic_type\": \"\",\n        \"description\": \"\"\n      }\n    }\n  ]\n}",
       "type": "dataframe"
      },
      "text/html": [
       "\n",
       "  <div id=\"df-fefd1180-7d7e-49a6-9301-61a89438dc96\" class=\"colab-df-container\">\n",
       "    <div>\n",
       "<style scoped>\n",
       "    .dataframe tbody tr th:only-of-type {\n",
       "        vertical-align: middle;\n",
       "    }\n",
       "\n",
       "    .dataframe tbody tr th {\n",
       "        vertical-align: top;\n",
       "    }\n",
       "\n",
       "    .dataframe thead th {\n",
       "        text-align: right;\n",
       "    }\n",
       "</style>\n",
       "<table border=\"1\" class=\"dataframe\">\n",
       "  <thead>\n",
       "    <tr style=\"text-align: right;\">\n",
       "      <th></th>\n",
       "      <th>user_id</th>\n",
       "      <th>track_id</th>\n",
       "      <th>playcount</th>\n",
       "      <th>Emotion Quadrant</th>\n",
       "      <th>name</th>\n",
       "      <th>artist</th>\n",
       "      <th>segment</th>\n",
       "    </tr>\n",
       "  </thead>\n",
       "  <tbody>\n",
       "    <tr>\n",
       "      <th>80</th>\n",
       "      <td>102396</td>\n",
       "      <td>14545</td>\n",
       "      <td>34</td>\n",
       "      <td>0</td>\n",
       "      <td>5.45</td>\n",
       "      <td>Gang of Four</td>\n",
       "      <td>1</td>\n",
       "    </tr>\n",
       "  </tbody>\n",
       "</table>\n",
       "</div>\n",
       "    <div class=\"colab-df-buttons\">\n",
       "\n",
       "  <div class=\"colab-df-container\">\n",
       "    <button class=\"colab-df-convert\" onclick=\"convertToInteractive('df-fefd1180-7d7e-49a6-9301-61a89438dc96')\"\n",
       "            title=\"Convert this dataframe to an interactive table.\"\n",
       "            style=\"display:none;\">\n",
       "\n",
       "  <svg xmlns=\"http://www.w3.org/2000/svg\" height=\"24px\" viewBox=\"0 -960 960 960\">\n",
       "    <path d=\"M120-120v-720h720v720H120Zm60-500h600v-160H180v160Zm220 220h160v-160H400v160Zm0 220h160v-160H400v160ZM180-400h160v-160H180v160Zm440 0h160v-160H620v160ZM180-180h160v-160H180v160Zm440 0h160v-160H620v160Z\"/>\n",
       "  </svg>\n",
       "    </button>\n",
       "\n",
       "  <style>\n",
       "    .colab-df-container {\n",
       "      display:flex;\n",
       "      gap: 12px;\n",
       "    }\n",
       "\n",
       "    .colab-df-convert {\n",
       "      background-color: #E8F0FE;\n",
       "      border: none;\n",
       "      border-radius: 50%;\n",
       "      cursor: pointer;\n",
       "      display: none;\n",
       "      fill: #1967D2;\n",
       "      height: 32px;\n",
       "      padding: 0 0 0 0;\n",
       "      width: 32px;\n",
       "    }\n",
       "\n",
       "    .colab-df-convert:hover {\n",
       "      background-color: #E2EBFA;\n",
       "      box-shadow: 0px 1px 2px rgba(60, 64, 67, 0.3), 0px 1px 3px 1px rgba(60, 64, 67, 0.15);\n",
       "      fill: #174EA6;\n",
       "    }\n",
       "\n",
       "    .colab-df-buttons div {\n",
       "      margin-bottom: 4px;\n",
       "    }\n",
       "\n",
       "    [theme=dark] .colab-df-convert {\n",
       "      background-color: #3B4455;\n",
       "      fill: #D2E3FC;\n",
       "    }\n",
       "\n",
       "    [theme=dark] .colab-df-convert:hover {\n",
       "      background-color: #434B5C;\n",
       "      box-shadow: 0px 1px 3px 1px rgba(0, 0, 0, 0.15);\n",
       "      filter: drop-shadow(0px 1px 2px rgba(0, 0, 0, 0.3));\n",
       "      fill: #FFFFFF;\n",
       "    }\n",
       "  </style>\n",
       "\n",
       "    <script>\n",
       "      const buttonEl =\n",
       "        document.querySelector('#df-fefd1180-7d7e-49a6-9301-61a89438dc96 button.colab-df-convert');\n",
       "      buttonEl.style.display =\n",
       "        google.colab.kernel.accessAllowed ? 'block' : 'none';\n",
       "\n",
       "      async function convertToInteractive(key) {\n",
       "        const element = document.querySelector('#df-fefd1180-7d7e-49a6-9301-61a89438dc96');\n",
       "        const dataTable =\n",
       "          await google.colab.kernel.invokeFunction('convertToInteractive',\n",
       "                                                    [key], {});\n",
       "        if (!dataTable) return;\n",
       "\n",
       "        const docLinkHtml = 'Like what you see? Visit the ' +\n",
       "          '<a target=\"_blank\" href=https://colab.research.google.com/notebooks/data_table.ipynb>data table notebook</a>'\n",
       "          + ' to learn more about interactive tables.';\n",
       "        element.innerHTML = '';\n",
       "        dataTable['output_type'] = 'display_data';\n",
       "        await google.colab.output.renderOutput(dataTable, element);\n",
       "        const docLink = document.createElement('div');\n",
       "        docLink.innerHTML = docLinkHtml;\n",
       "        element.appendChild(docLink);\n",
       "      }\n",
       "    </script>\n",
       "  </div>\n",
       "\n",
       "\n",
       "    </div>\n",
       "  </div>\n"
      ],
      "text/plain": [
       "    user_id  track_id  playcount  Emotion Quadrant  name        artist  \\\n",
       "80   102396     14545         34                 0  5.45  Gang of Four   \n",
       "\n",
       "    segment  \n",
       "80        1  "
      ]
     },
     "execution_count": 123,
     "metadata": {},
     "output_type": "execute_result"
    }
   ],
   "source": [
    "most_playcount_df[most_playcount_df['user_id']==heavy_user_listener[0]]['segment']"
   ]
  },
  {
   "cell_type": "code",
   "execution_count": null,
   "metadata": {
    "id": "ovdsX8peWBTG"
   },
   "outputs": [],
   "source": [
    "def get_recommendation(user_id, k):\n",
    "\n",
    "  # Get segment of user\n",
    "  segment = str(most_playcount_df[most_playcount_df['user_id'] == user_id]['segment'].values[0])\n",
    "\n",
    "  # Emotion Quadrant\n",
    "  emotion = most_playcount_df[most_playcount_df['user_id'] == user_id]['Emotion Quadrant'].values[0]\n",
    "\n",
    "  # Get the most listening song of that user\n",
    "  track_id = most_playcount_df[most_playcount_df['user_id'] == user_id]['track_id'].values[0]\n",
    "  track_id = 'id_' + str(track_id)\n",
    "\n",
    "  # Transform user_id to new format\n",
    "  user_id = 'id_' + str(user_id)\n",
    "\n",
    "  # use the information to get the recommendation\n",
    "  scores , titles = trained_index(queries = {\n",
    "    'user_id':tf.constant([user_id]),\n",
    "    'track_id':tf.constant([track_id]),\n",
    "    'segment':tf.constant([segment])\n",
    "    }, k = k\n",
    "  )\n",
    "\n",
    "  titles = [index_song[idx.decode('utf-8')] for idx in titles[0, :].numpy()]\n",
    "\n",
    "  recommendation_dict = dict(zip(titles, scores.numpy()[0]))\n",
    "\n",
    "  return recommendation_dict, emotion"
   ]
  },
  {
   "cell_type": "code",
   "execution_count": null,
   "metadata": {
    "id": "3TpjcBxHhnNc"
   },
   "outputs": [],
   "source": [
    "def get_mood_dict(recommendation_dict):\n",
    "\n",
    "    mood_dict = {}\n",
    "\n",
    "    for idx, row in mood_df.iterrows():\n",
    "        # Combine the name and artist to create the key\n",
    "        song_artist_key = f\"{row['name']} by {row['artist']}\"\n",
    "\n",
    "        # Check if the song is in the recommendation_dict\n",
    "        if song_artist_key in recommendation_dict:\n",
    "            mood_dict[song_artist_key] = row['Emotion Quadrant']\n",
    "\n",
    "    return mood_dict"
   ]
  },
  {
   "cell_type": "code",
   "execution_count": null,
   "metadata": {
    "id": "HOs_eKWjYoEA"
   },
   "outputs": [],
   "source": [
    "def precision_at_k(heavy_user_listener, k):\n",
    "\n",
    "  precision_at_k = {}\n",
    "\n",
    "  for user in heavy_user_listener:\n",
    "\n",
    "    TP = 0\n",
    "    FP = 0\n",
    "\n",
    "    recommendation, emotion = get_recommendation(user, k)\n",
    "    mood_dict = get_mood_dict(recommendation)\n",
    "\n",
    "    for mood in mood_dict.values():\n",
    "      if mood == emotion:\n",
    "        TP += 1\n",
    "      else:\n",
    "        FP += 1\n",
    "\n",
    "    precision = TP / (TP + FP)\n",
    "    precision_at_k[user] = precision\n",
    "\n",
    "  return precision_at_k"
   ]
  },
  {
   "cell_type": "code",
   "execution_count": null,
   "metadata": {
    "id": "w855SmELbKq4"
   },
   "outputs": [],
   "source": [
    "precision_at_5 = precision_at_k(heavy_user_listener, 5)"
   ]
  },
  {
   "cell_type": "code",
   "execution_count": null,
   "metadata": {
    "colab": {
     "base_uri": "https://localhost:8080/"
    },
    "id": "0Wk7Nlfqe-Y7",
    "outputId": "f024f066-b82c-4a14-a38d-5930317b5657"
   },
   "outputs": [
    {
     "name": "stdout",
     "output_type": "stream",
     "text": [
      "Average precision at 5: 0.8613333333333341\n"
     ]
    }
   ],
   "source": [
    "# Calculate the average precision\n",
    "average_precision_at_5 = sum(precision_at_5.values()) / len(precision_at_5)\n",
    "print(f\"Average precision at 5: {average_precision_at_5}\")"
   ]
  },
  {
   "cell_type": "code",
   "execution_count": null,
   "metadata": {
    "colab": {
     "background_save": true
    },
    "id": "9_3Qj1abdqFy",
    "outputId": "5b0c0c1d-e53c-4963-9d18-0e3c9e101f43"
   },
   "outputs": [
    {
     "name": "stdout",
     "output_type": "stream",
     "text": [
      "Average precision at 10: 0.8425000000000001\n"
     ]
    }
   ],
   "source": [
    "precision_at_10 = precision_at_k(heavy_user_listener, 10)\n",
    "\n",
    "# Calculate the average precision\n",
    "average_precision_at_10 = sum(precision_at_10.values()) / len(precision_at_10)\n",
    "print(f\"Average precision at 10: {average_precision_at_10}\")"
   ]
  },
  {
   "cell_type": "code",
   "execution_count": null,
   "metadata": {
    "colab": {
     "base_uri": "https://localhost:8080/"
    },
    "id": "wu2gptAodqOp",
    "outputId": "4ede191e-131c-49c5-face-bac407d0995c"
   },
   "outputs": [
    {
     "name": "stdout",
     "output_type": "stream",
     "text": [
      "Average precision at 20: 0.8255833333333332\n"
     ]
    }
   ],
   "source": [
    "precision_at_20 = precision_at_k(heavy_user_listener, 20)\n",
    "\n",
    "# Calculate the average precision\n",
    "average_precision_at_20 = sum(precision_at_20.values()) / len(precision_at_20)\n",
    "print(f\"Average precision at 20: {average_precision_at_20}\")"
   ]
  },
  {
   "cell_type": "markdown",
   "metadata": {
    "id": "CpyV-NRrnEsM"
   },
   "source": [
    "## normal user"
   ]
  },
  {
   "cell_type": "code",
   "execution_count": null,
   "metadata": {},
   "outputs": [],
   "source": [
    "# normal user\n",
    "light_user_listen_df['id'] = light_user_listen_df['user_id'].str[3:].astype(int)\n",
    "normal_user_listener = light_user_listen_df['id'].unique()\n",
    "\n",
    "interaction_df_normal_user_filtered = interaction_df[interaction_df['user_id'].isin(normal_user_listener)]\n",
    "\n",
    "# Get the index of the rows with the highest playcount for each user_id\n",
    "idx_2 = interaction_df_normal_user_filtered.groupby('user_id')['playcount'].idxmax()\n",
    "\n",
    "# Select those rows from the original dataframe\n",
    "most_playcount_normal_df = interaction_df_normal_user_filtered.loc[idx_2].reset_index(drop=True)\n",
    "\n",
    "most_playcount_normal_df = pd.merge(most_playcount_normal_df, user_df, on='user_id', how='left')"
   ]
  },
  {
   "cell_type": "code",
   "execution_count": null,
   "metadata": {
    "id": "GnkN0yCLx0Pg"
   },
   "outputs": [],
   "source": [
    "# Perform stratified sampling based on the 'Emotion Quadrant' column\n",
    "stratified_sample, _ = train_test_split(most_playcount_normal_df, test_size=len(most_playcount_normal_df) - 450, stratify=most_playcount_normal_df['Emotion Quadrant'], random_state=13)\n",
    "\n",
    "sample_user = stratified_sample['user_id'].unique()\n",
    "\n",
    "interaction_df_sample_filtered = interaction_df_normal_user_filtered[interaction_df_normal_user_filtered['user_id'].isin(sample_user)]\n",
    "\n",
    "# Get the index of the rows with the highest playcount for each user_id\n",
    "idx_3 = interaction_df_sample_filtered.groupby('user_id')['playcount'].idxmax()\n",
    "\n",
    "# Select those rows from the original dataframe\n",
    "most_playcount_sampled_df = interaction_df_sample_filtered.loc[idx_3].reset_index(drop=True)\n",
    "\n",
    "most_playcount_sampled_df = pd.merge(most_playcount_sampled_df, user_df, on='user_id', how='left')"
   ]
  },
  {
   "cell_type": "code",
   "execution_count": null,
   "metadata": {
    "id": "iaUWrPrPxnpR"
   },
   "outputs": [],
   "source": [
    "def get_recommendation_2(user_id, k):\n",
    "\n",
    "  # get segment of user\n",
    "  segment = str(most_playcount_sampled_df[most_playcount_sampled_df['user_id'] == user_id]['segment'].values[0])\n",
    "\n",
    "  # Emotion Quadrant\n",
    "  emotion = most_playcount_sampled_df[most_playcount_sampled_df['user_id'] == user_id]['Emotion Quadrant'].values[0]\n",
    "\n",
    "  # get the most listening song of that user\n",
    "  track_id = most_playcount_sampled_df[most_playcount_sampled_df['user_id'] == user_id]['track_id'].values[0]\n",
    "  track_id = 'id_' + str(track_id)\n",
    "\n",
    "  # transform user_id to new format\n",
    "  user_id = 'id_' + str(user_id)\n",
    "\n",
    "\n",
    "  # use the information to get the recommendation\n",
    "  scores , titles = trained_index(queries = {\n",
    "    'user_id':tf.constant([user_id]),\n",
    "    'track_id':tf.constant([track_id]),\n",
    "    'segment':tf.constant([segment])\n",
    "    }, k = k\n",
    "  )\n",
    "\n",
    "  titles = [index_song[idx.decode('utf-8')] for idx in titles[0, :].numpy()]\n",
    "\n",
    "  recommendation_dict = dict(zip(titles, scores.numpy()[0]))\n",
    "\n",
    "  return recommendation_dict, emotion\n",
    "\n",
    "\n",
    "def get_mood_dict_2(recommendation_dict):\n",
    "\n",
    "    mood_dict = {}\n",
    "\n",
    "    for idx, row in mood_df.iterrows():\n",
    "        # Combine the name and artist to create the key\n",
    "        song_artist_key = f\"{row['name']} by {row['artist']}\"\n",
    "\n",
    "        # Check if the song is in the recommendation_dict\n",
    "        if song_artist_key in recommendation_dict:\n",
    "            mood_dict[song_artist_key] = row['Emotion Quadrant']\n",
    "\n",
    "    return mood_dict\n",
    "\n",
    "\n",
    "def precision_at_k_v2(heavy_user_listener, k):\n",
    "\n",
    "  precision_at_k = {}\n",
    "\n",
    "  for user in heavy_user_listener:\n",
    "\n",
    "    TP = 0\n",
    "    FP = 0\n",
    "\n",
    "    recommendation, emotion = get_recommendation_2(user, k)\n",
    "    mood_dict = get_mood_dict_2(recommendation)\n",
    "\n",
    "    for mood in mood_dict.values():\n",
    "      if mood == emotion:\n",
    "        TP += 1\n",
    "      else:\n",
    "        FP += 1\n",
    "\n",
    "    precision = TP / (TP + FP)\n",
    "    precision_at_k[user] = precision\n",
    "\n",
    "  return precision_at_k"
   ]
  },
  {
   "cell_type": "code",
   "execution_count": null,
   "metadata": {
    "colab": {
     "base_uri": "https://localhost:8080/"
    },
    "id": "VJX9uFRxyZA9",
    "outputId": "aac85528-e4b9-43ad-eea6-d5812c93f096"
   },
   "outputs": [
    {
     "name": "stdout",
     "output_type": "stream",
     "text": [
      "Average precision at 5: 0.7546666666666669\n"
     ]
    }
   ],
   "source": [
    "normal_user_precision_at_5 = precision_at_k_v2(sample_user, 5)\n",
    "\n",
    "# Calculate the average precision\n",
    "average_normal_user_precision_at_5 = sum(normal_user_precision_at_5.values()) / len(normal_user_precision_at_5)\n",
    "print(f\"Average precision at 5: {average_normal_user_precision_at_5}\")"
   ]
  },
  {
   "cell_type": "code",
   "execution_count": null,
   "metadata": {
    "colab": {
     "base_uri": "https://localhost:8080/"
    },
    "id": "_GsUm3Cq2Idj",
    "outputId": "15c25f27-bf5e-4f22-9708-f89ef5fdfa80"
   },
   "outputs": [
    {
     "name": "stdout",
     "output_type": "stream",
     "text": [
      "Average precision at 10: 0.7395555555555559\n"
     ]
    }
   ],
   "source": [
    "normal_user_precision_at_10 = precision_at_k_v2(sample_user, 10)\n",
    "\n",
    "# Calculate the average precision\n",
    "average_normal_user_precision_at_10 = sum(normal_user_precision_at_10.values()) / len(normal_user_precision_at_10)\n",
    "print(f\"Average precision at 10: {average_normal_user_precision_at_10}\")"
   ]
  },
  {
   "cell_type": "code",
   "execution_count": null,
   "metadata": {
    "colab": {
     "base_uri": "https://localhost:8080/"
    },
    "id": "l9Igw_AG2MsK",
    "outputId": "fa73d83c-3455-4798-d172-cc7dea7e32c2"
   },
   "outputs": [
    {
     "name": "stdout",
     "output_type": "stream",
     "text": [
      "Average precision at 20: 0.7245555555555551\n"
     ]
    }
   ],
   "source": [
    "normal_user_precision_at_20 = precision_at_k_v2(sample_user, 20)\n",
    "\n",
    "# Calculate the average precision\n",
    "average_normal_user_precision_at_20 = sum(normal_user_precision_at_20.values()) / len(normal_user_precision_at_20)\n",
    "print(f\"Average precision at 20: {average_normal_user_precision_at_20}\")"
   ]
  }
 ],
 "metadata": {
  "colab": {
   "provenance": [],
   "toc_visible": true
  },
  "kernelspec": {
   "display_name": "Python 3",
   "name": "python3"
  },
  "language_info": {
   "name": "python"
  }
 },
 "nbformat": 4,
 "nbformat_minor": 0
}
